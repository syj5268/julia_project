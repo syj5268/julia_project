{
 "cells": [
  {
   "cell_type": "code",
   "execution_count": 104,
   "metadata": {},
   "outputs": [],
   "source": [
    "using JuMP, Gurobi, CPLEX\n",
    "using LinearAlgebra"
   ]
  },
  {
   "cell_type": "markdown",
   "metadata": {},
   "source": [
    "# Problem setting"
   ]
  },
  {
   "cell_type": "markdown",
   "metadata": {},
   "source": [
    "- single vehicle\n",
    "- One-to-One PDP\n",
    "- Nodes: 5 Pickup locations (1 to 5), and 5 Delivery locations (6 to 10), origin(11), destination(12)\n",
    "- Time Windows: Randomly generated for each pickup and delivery location.\n",
    "- Stack Limit: 3 (maximum number of items the vehicle can carry).\n",
    "- Cost Matrix: Randomly generated costs between each pair of locations."
   ]
  },
  {
   "cell_type": "code",
   "execution_count": 132,
   "metadata": {},
   "outputs": [],
   "source": [
    "# Number of pickup and delivery requests\n",
    "num_requests = 5\n",
    "num_nodes = 2 * num_requests + 2 # Includes two depot nodes\n",
    "\n",
    "# Define the set of pickup nodes P and delivery nodes D\n",
    "P = [i for i in 1:num_requests]\n",
    "D = [i for i in num_requests+1:2*num_requests]\n",
    "depot_start = 2*num_requests+1 #node 11\n",
    "depot_end = num_nodes #node 12\n",
    "vehicle_capacity = 4\n",
    "\n",
    "# Define time windows for each node (here, we're setting random examples)\n",
    "time_windows = vcat([(rand(0:30), rand(30:60)) for _ in 1:num_requests], [(rand(0:30), rand(30:80)) for _ in 1:num_requests])\n",
    "time_windows = vcat(time_windows, [(0, 0), (0, 100)]) # Time window for the initial depot and the final depot\n",
    "\n",
    "\n",
    "# Define load sizes for pickup and delivery requests (here, we're setting random examples)\n",
    "loads = [1 for _ in 1:num_requests] # 1 load for pickups\n",
    "loads = vcat(loads, -loads) # Loads for deliveries are the negated pickups\n",
    "loads = vcat(loads, [0, 0]) # Loads for depots are zero\n",
    "\n",
    "# Random service durations at each location\n",
    "service_durations = rand(1:4, 2*num_requests) # Service durations between 1 to 4 units\n",
    "service_durations = vcat(service_durations, [0, 0])\n",
    "\n",
    "# Define a random symmetric travel time matrix respecting triangular inequality\n",
    "# 노드의 무작위 위치 생성\n",
    "node_positions = [rand(0:10, 2) for _ in 1:num_nodes-1]\n",
    "node_positions = vcat(node_positions, [node_positions[11]]) # 마지막 노드는 11 번째 노드와 동일한 위치에 배치\n",
    "\n",
    "# 유클리드 거리를 사용하여 이동 시간 계산\n",
    "function calculate_travel_time(pos1, pos2)\n",
    "    return round(norm(pos1 - pos2)) # 유클리드 거리를 기반으로 이동 시간 계산\n",
    "end\n",
    "\n",
    "# 이동 시간 및 대칭 비용 행렬 생성\n",
    "travel_time_matrix = zeros(num_nodes, num_nodes)\n",
    "cost_matrix = zeros(num_nodes, num_nodes)\n",
    "for i in 1:num_nodes\n",
    "    for j in 1:num_nodes\n",
    "        if i != j\n",
    "            travel_time_matrix[i,j] = calculate_travel_time(node_positions[i], node_positions[j]) * (1/2)\n",
    "            cost_matrix[i,j] = travel_time_matrix[i,j] * 2 # 비용은 이동 시간에 비례한다고 가정\n",
    "        end\n",
    "    end\n",
    "end\n",
    "\n",
    "# Define the maximum route duration (here, we're setting a random example)\n",
    "# max_route_duration = rand(50:100)"
   ]
  },
  {
   "cell_type": "code",
   "execution_count": 133,
   "metadata": {},
   "outputs": [
    {
     "data": {
      "text/plain": [
       "12-element Vector{Int64}:\n",
       "  1\n",
       "  1\n",
       "  1\n",
       "  1\n",
       "  1\n",
       " -1\n",
       " -1\n",
       " -1\n",
       " -1\n",
       " -1\n",
       "  0\n",
       "  0"
      ]
     },
     "execution_count": 133,
     "metadata": {},
     "output_type": "execute_result"
    }
   ],
   "source": [
    "loads"
   ]
  },
  {
   "cell_type": "code",
   "execution_count": 134,
   "metadata": {},
   "outputs": [
    {
     "data": {
      "text/plain": [
       "12-element Vector{Tuple{Int64, Int64}}:\n",
       " (5, 52)\n",
       " (10, 30)\n",
       " (5, 54)\n",
       " (8, 57)\n",
       " (8, 43)\n",
       " (28, 75)\n",
       " (8, 36)\n",
       " (10, 37)\n",
       " (8, 80)\n",
       " (20, 32)\n",
       " (0, 0)\n",
       " (0, 100)"
      ]
     },
     "execution_count": 134,
     "metadata": {},
     "output_type": "execute_result"
    }
   ],
   "source": [
    "time_windows"
   ]
  },
  {
   "cell_type": "code",
   "execution_count": 135,
   "metadata": {},
   "outputs": [
    {
     "data": {
      "text/plain": [
       "12-element Vector{Int64}:\n",
       " 4\n",
       " 4\n",
       " 2\n",
       " 4\n",
       " 2\n",
       " 3\n",
       " 3\n",
       " 4\n",
       " 3\n",
       " 4\n",
       " 0\n",
       " 0"
      ]
     },
     "execution_count": 135,
     "metadata": {},
     "output_type": "execute_result"
    }
   ],
   "source": [
    "service_durations"
   ]
  },
  {
   "cell_type": "code",
   "execution_count": 136,
   "metadata": {},
   "outputs": [
    {
     "data": {
      "text/plain": [
       "12-element Vector{Vector{Int64}}:\n",
       " [0, 0]\n",
       " [9, 9]\n",
       " [3, 4]\n",
       " [2, 1]\n",
       " [9, 0]\n",
       " [8, 8]\n",
       " [6, 10]\n",
       " [7, 3]\n",
       " [2, 10]\n",
       " [8, 5]\n",
       " [6, 8]\n",
       " [6, 8]"
      ]
     },
     "execution_count": 136,
     "metadata": {},
     "output_type": "execute_result"
    }
   ],
   "source": [
    "node_positions"
   ]
  },
  {
   "cell_type": "code",
   "execution_count": 137,
   "metadata": {},
   "outputs": [
    {
     "data": {
      "text/plain": [
       "12×12 Matrix{Float64}:\n",
       "  0.0  13.0  5.0   2.0   9.0  11.0  12.0  8.0  10.0  9.0  10.0  10.0\n",
       " 13.0   0.0  8.0  11.0   9.0   1.0   3.0  6.0   7.0  4.0   3.0   3.0\n",
       "  5.0   8.0  0.0   3.0   7.0   6.0   7.0  4.0   6.0  5.0   5.0   5.0\n",
       "  2.0  11.0  3.0   0.0   7.0   9.0  10.0  5.0   9.0  7.0   8.0   8.0\n",
       "  9.0   9.0  7.0   7.0   0.0   8.0  10.0  4.0  12.0  5.0   9.0   9.0\n",
       " 11.0   1.0  6.0   9.0   8.0   0.0   3.0  5.0   6.0  3.0   2.0   2.0\n",
       " 12.0   3.0  7.0  10.0  10.0   3.0   0.0  7.0   4.0  5.0   2.0   2.0\n",
       "  8.0   6.0  4.0   5.0   4.0   5.0   7.0  0.0   9.0  2.0   5.0   5.0\n",
       " 10.0   7.0  6.0   9.0  12.0   6.0   4.0  9.0   0.0  8.0   4.0   4.0\n",
       "  9.0   4.0  5.0   7.0   5.0   3.0   5.0  2.0   8.0  0.0   4.0   4.0\n",
       " 10.0   3.0  5.0   8.0   9.0   2.0   2.0  5.0   4.0  4.0   0.0   0.0\n",
       " 10.0   3.0  5.0   8.0   9.0   2.0   2.0  5.0   4.0  4.0   0.0   0.0"
      ]
     },
     "execution_count": 137,
     "metadata": {},
     "output_type": "execute_result"
    }
   ],
   "source": [
    "cost_matrix"
   ]
  },
  {
   "cell_type": "code",
   "execution_count": 159,
   "metadata": {},
   "outputs": [
    {
     "data": {
      "text/plain": [
       "2.5"
      ]
     },
     "execution_count": 159,
     "metadata": {},
     "output_type": "execute_result"
    }
   ],
   "source": [
    "travel_time_matrix[4,8]"
   ]
  },
  {
   "cell_type": "markdown",
   "metadata": {},
   "source": [
    "# Mathematical Modeling"
   ]
  },
  {
   "cell_type": "code",
   "execution_count": 141,
   "metadata": {},
   "outputs": [
    {
     "name": "stdout",
     "output_type": "stream",
     "text": [
      "Set parameter Username\n",
      "Academic license - for non-commercial use only - expires 2024-11-21\n",
      "Gurobi Optimizer version 10.0.3 build v10.0.3rc0 (linux64)\n",
      "\n",
      "CPU model: AMD Ryzen 9 5900X 12-Core Processor, instruction set [SSE2|AVX|AVX2]\n",
      "Thread count: 12 physical cores, 24 logical processors, using up to 24 threads\n",
      "\n",
      "Optimize a model with 72 rows, 168 columns and 412 nonzeros\n",
      "Model fingerprint: 0xfe45fcac\n",
      "Model has 288 quadratic constraints\n",
      "Variable types: 24 continuous, 144 integer (144 binary)\n",
      "Coefficient statistics:\n",
      "  Matrix range     [1e+00, 1e+00]\n",
      "  QMatrix range    [1e+00, 1e+00]\n",
      "  QLMatrix range   [1e+00, 1e+01]\n",
      "  Objective range  [1e+00, 1e+01]\n",
      "  Bounds range     [0e+00, 0e+00]\n",
      "  RHS range        [1e+00, 1e+02]\n",
      "Presolve added 221 rows and 0 columns\n",
      "Presolve removed 0 rows and 37 columns\n",
      "Presolve time: 0.00s\n",
      "Presolved: 415 rows, 212 columns, 2049 nonzeros\n",
      "Presolved model has 42 SOS constraint(s)\n",
      "Variable types: 82 continuous, 130 integer (129 binary)\n",
      "\n",
      "Root relaxation: objective 3.516667e+01, 54 iterations, 0.00 seconds (0.00 work units)\n",
      "\n",
      "    Nodes    |    Current Node    |     Objective Bounds      |     Work\n",
      " Expl Unexpl |  Obj  Depth IntInf | Incumbent    BestBd   Gap | It/Node Time\n",
      "\n",
      "     0     0   35.16667    0   23          -   35.16667      -     -    0s\n",
      "     0     0   38.48713    0   19          -   38.48713      -     -    0s\n",
      "H    0     0                      58.0000000   38.48713  33.6%     -    0s\n",
      "     0     0   40.00000    0   14   58.00000   40.00000  31.0%     -    0s\n",
      "     0     0   40.00000    0   14   58.00000   40.00000  31.0%     -    0s\n",
      "     0     0   40.00539    0   18   58.00000   40.00539  31.0%     -    0s\n",
      "     0     0   40.00539    0   18   58.00000   40.00539  31.0%     -    0s\n",
      "     0     0   40.00539    0   14   58.00000   40.00539  31.0%     -    0s\n",
      "H    0     0                      56.0000000   40.00539  28.6%     -    0s\n",
      "     0     0   40.32632    0   16   56.00000   40.32632  28.0%     -    0s\n",
      "     0     0   40.35103    0   29   56.00000   40.35103  27.9%     -    0s\n",
      "     0     0   40.35103    0   29   56.00000   40.35103  27.9%     -    0s\n",
      "     0     2   41.00000    0   29   56.00000   41.00000  26.8%     -    0s\n",
      "H  430   207                      55.0000000   41.83338  23.9%   9.4    0s\n",
      "* 2859    77              11      54.0000000   49.00000  9.26%  10.2    0s\n",
      "* 2952     0              12      52.0000000   49.71828  4.39%  10.2    0s\n",
      "\n",
      "Cutting planes:\n",
      "  Learned: 3\n",
      "  Gomory: 8\n",
      "  Cover: 26\n",
      "  Implied bound: 41\n",
      "  Clique: 2\n",
      "  MIR: 25\n",
      "  RLT: 8\n",
      "  Relax-and-lift: 4\n",
      "\n",
      "Explored 3064 nodes (31401 simplex iterations) in 0.18 seconds (0.27 work units)\n",
      "Thread count was 24 (of 24 available processors)\n",
      "\n",
      "Solution count 5: 52 54 55 ... 58\n",
      "\n",
      "Optimal solution found (tolerance 1.00e-04)\n",
      "Best objective 5.200000000000e+01, best bound 5.200000000000e+01, gap 0.0000%\n",
      "\n",
      "User-callback calls 6755, time in user-callback 0.00 sec\n"
     ]
    }
   ],
   "source": [
    "# Initialize the model\n",
    "model = Model(Gurobi.Optimizer)\n",
    "\n",
    "# Define decision variables\n",
    "@variable(model, x[1:num_nodes, 1:num_nodes]>=0, Bin)\n",
    "@variable(model, service_start_time[1:num_nodes] >=0)\n",
    "@variable(model, load_after_node[1:num_nodes] >=0)\n",
    "\n",
    "# Define the objective function to minimize the total cost\n",
    "@objective(model, Min, sum(cost_matrix[i,j] * x[i,j] for i in 1:num_nodes, j in 1:num_nodes)) # 9.1\n",
    "\n",
    "# Define the constraints\n",
    "# Each pickup and delivery match\n",
    "for i in P\n",
    "    @constraint(model, sum(x[i, j] for j in vcat(P, D, depot_end)) == 1)  # 9.2\n",
    "    @constraint(model, sum(x[i, j] for j in vcat(P, D)) - sum(x[j,i+num_requests] for j in vcat(P, D)) == 0) # 9.3\n",
    "end\n",
    "\n",
    "# Leave from and return to the depot\n",
    "@constraint(model, sum(x[depot_start, j] for j in vcat(P, depot_end)) == 1)  # 9.4\n",
    "@constraint(model, sum(x[i, depot_end] for i in vcat(D, depot_start)) == 1)  # 9.6\n",
    "\n",
    "for j in vcat(P, D)\n",
    "    @constraint(model, sum(x[i, j] for i in vcat(P, D, depot_start)) - sum(x[j, i] for i in vcat(P, D, depot_end)) == 0) # 9.5\n",
    "end\n",
    "\n",
    "# Time window constraints\n",
    "for i in 1:num_nodes\n",
    "    for j in 1:num_nodes\n",
    "        @constraint(model, (service_start_time[i] + service_durations[i] + travel_time_matrix[i,j] - service_start_time[j]) * x[i,j] <= 0) # 9.7\n",
    "    end\n",
    "end\n",
    "\n",
    "for i in 1:num_nodes\n",
    "    @constraint(model, service_start_time[i] >= time_windows[i][1]) # 9.8   \n",
    "    @constraint(model, service_start_time[i] <= time_windows[i][2]) # 9.8\n",
    "end\n",
    "\n",
    "for i in P\n",
    "    @constraint(model, service_start_time[i] + travel_time_matrix[i,i+num_requests] <= service_start_time[i+num_requests]) # 9.9\n",
    "end\n",
    "\n",
    "# Vehicle load and capacity constraints\n",
    "for i in 1:num_nodes\n",
    "    for j in 1:num_nodes\n",
    "        @constraint(model, (load_after_node[i] + loads[j] - load_after_node[j]) * x[i,j] == 0) # 9.10\n",
    "    end\n",
    "end\n",
    "\n",
    "for i in P\n",
    "    @constraint(model, load_after_node[i] >= loads[i]) # 9.11\n",
    "    @constraint(model, load_after_node[i] <= vehicle_capacity) # 9.11\n",
    "end\n",
    "\n",
    "for i in D\n",
    "    @constraint(model, load_after_node[i] >= 0) # 9.12\n",
    "    @constraint(model, load_after_node[i] <= vehicle_capacity - loads[i-num_requests]) # 9.12\n",
    "end\n",
    "\n",
    "@constraint(model, load_after_node[depot_start] == 0) # 9.13\n",
    "\n",
    "# Solve the problem\n",
    "optimize!(model)\n"
   ]
  },
  {
   "cell_type": "markdown",
   "metadata": {},
   "source": [
    "# Solve the model"
   ]
  },
  {
   "cell_type": "code",
   "execution_count": 170,
   "metadata": {},
   "outputs": [
    {
     "name": "stdout",
     "output_type": "stream",
     "text": [
      "An optimal solution has been found:\n",
      "Optimal objective value: 52.0\n",
      "Node 11 to node 2\n",
      "Node 2 to node 7\n",
      "Node 7 to node 3\n",
      "Node 3 to node 5\n",
      "Node 5 to node 10\n",
      "Node 10 to node 8\n",
      "Node 8 to node 4\n",
      "Node 4 to node 1\n",
      "Node 1 to node 9\n",
      "Node 9 to node 6\n",
      "Node 6 to node 12\n",
      "Vehicle Route: [11, 2, 7, 3, 5, 10, 8, 4, 1, 9, 6, 12]\n",
      "\n",
      "Service start times:\n",
      "Node 1: 52.0\n",
      "Node 2: 10.0\n",
      "Node 3: 22.0\n",
      "Node 4: 47.0\n",
      "Node 5: 27.5\n",
      "Node 6: 75.0\n",
      "Node 7: 15.5\n",
      "Node 8: 37.0\n",
      "Node 9: 61.0\n",
      "Node 10: 32.0\n",
      "Node 11: 0.0\n",
      "Node 12: 79.0\n",
      "\n",
      "Vehicle loads after each node:\n",
      "Node 1: 2.0\n",
      "Node 2: 1.0\n",
      "Node 3: 1.0\n",
      "Node 4: 1.0\n",
      "Node 5: 2.0\n",
      "Node 6: 0.0\n",
      "Node 7: 0.0\n",
      "Node 8: 0.0\n",
      "Node 9: 1.0\n",
      "Node 10: 1.0\n",
      "Node 11: 0.0\n",
      "Node 12: 0.0\n"
     ]
    }
   ],
   "source": [
    "# Check if the model has a solution\n",
    "if termination_status(model) == MOI.OPTIMAL || termination_status(model) == MOI.LOCALLY_SOLVED\n",
    "    println(\"An optimal solution has been found:\")\n",
    "    println(\"Optimal objective value: \", objective_value(model))\n",
    "    \n",
    "    # Route reconstruction\n",
    "    route = [depot_start]\n",
    "    current_node = depot_start\n",
    "\n",
    "    while current_node != depot_end\n",
    "        for i in 1:num_nodes\n",
    "            for j in 1:num_nodes\n",
    "                if value(x[i,j]) > 0.9\n",
    "                    if i == current_node\n",
    "                        println(\"Node $i to node $j\")\n",
    "                        push!(route, j)\n",
    "                        current_node = j\n",
    "                    end\n",
    "                end\n",
    "            end\n",
    "        end\n",
    "    end\n",
    "    \n",
    "    println(\"Vehicle Route: \", route)\n",
    "    \n",
    "    # Print the service start times\n",
    "    println(\"\\nService start times:\")\n",
    "    for i in 1:num_nodes\n",
    "        println(\"Node $i: \", value(service_start_time[i]))\n",
    "    end\n",
    "    \n",
    "    # Print the vehicle loads\n",
    "    println(\"\\nVehicle loads after each node:\")\n",
    "    for i in 1:num_nodes\n",
    "        println(\"Node $i: \", value(load_after_node[i]))\n",
    "    end\n",
    "    \n",
    "else\n",
    "    println(\"No optimal solution found. Status: \", termination_status(model))\n",
    "end"
   ]
  },
  {
   "cell_type": "code",
   "execution_count": 172,
   "metadata": {},
   "outputs": [],
   "source": [
    "# # Save the model and solution\n",
    "# JuMP.write_to_file(model, \"example_model.lp\")\n",
    "\n",
    "# open(\"example_result.txt\", \"w\") do file\n",
    "#     if termination_status(model) == MOI.OPTIMAL || termination_status(model) == MOI.LOCALLY_SOLVED\n",
    "#         println(file, \"An optimal solution has been found:\")\n",
    "#         println(file, \"Optimal objective value: \", objective_value(model))\n",
    "        \n",
    "#         # Route reconstruction\n",
    "#         route = [depot_start]\n",
    "#         current_node = depot_start\n",
    "    \n",
    "#         while current_node != depot_end\n",
    "#             for i in 1:num_nodes\n",
    "#                 for j in 1:num_nodes\n",
    "#                     if value(x[i,j]) > 0.9\n",
    "#                         if i == current_node\n",
    "#                             println(file, \"Node $i to node $j\")\n",
    "#                             push!(route, j)\n",
    "#                             current_node = j\n",
    "#                         end\n",
    "#                     end\n",
    "#                 end\n",
    "#             end\n",
    "#         end\n",
    "        \n",
    "#         println(file, \"Vehicle Route: \", route)\n",
    "        \n",
    "#         # Print the service start times\n",
    "#         println(file, \"\\nService start times:\")\n",
    "#         for i in 1:num_nodes\n",
    "#             println(file, \"Node $i: \", value(service_start_time[i]))\n",
    "#         end\n",
    "        \n",
    "#         # Print the vehicle loads\n",
    "#         println(file, \"\\nVehicle loads after each node:\")\n",
    "#         for i in 1:num_nodes\n",
    "#             println(file, \"Node $i: \", value(load_after_node[i]))\n",
    "#         end\n",
    "        \n",
    "#     else\n",
    "#         println(file, \"No optimal solution found. Status: \", termination_status(model))\n",
    "#     end\n",
    "# end"
   ]
  }
 ],
 "metadata": {
  "kernelspec": {
   "display_name": "Julia 1.9.3",
   "language": "julia",
   "name": "julia-1.9"
  },
  "language_info": {
   "file_extension": ".jl",
   "mimetype": "application/julia",
   "name": "julia",
   "version": "1.9.3"
  }
 },
 "nbformat": 4,
 "nbformat_minor": 2
}
