{
 "cells": [
  {
   "cell_type": "markdown",
   "metadata": {},
   "source": [
    "Reference : https://juliabook.chkwon.net/book/lagrangian"
   ]
  },
  {
   "cell_type": "markdown",
   "metadata": {},
   "source": [
    "# Introduction"
   ]
  },
  {
   "cell_type": "markdown",
   "metadata": {},
   "source": [
    "* For Mixed Integer Liner Programming Problems and Combinatorial Optimization Problems\n",
    "* We relax hard constraints to make the relaxed problems relatively eaiser to solve\n",
    "* While we solve these easy problems multiple times, we update the values of Lagrangian multipliers adequately"
   ]
  },
  {
   "cell_type": "markdown",
   "metadata": {},
   "source": [
    "## Lower and Upper Bounds"
   ]
  },
  {
   "cell_type": "markdown",
   "metadata": {},
   "source": [
    "* Z_LB and Z_UB\n",
    "* Optimality Gap\n",
    "* The relaxed Lagrangian problem provides LB.\n",
    "* We want the Lb are close to the optimal Z* -> We need to make a good choice of lambda."
   ]
  },
  {
   "cell_type": "markdown",
   "metadata": {},
   "source": [
    "* Linear Programming relaxation also provides an lower bound which is usually not very good."
   ]
  },
  {
   "cell_type": "markdown",
   "metadata": {},
   "source": [
    "* To find an upper bound, we just need to find a feasible solution to the original problem. -> Use the solution to the Lagrangian problem to find a good upper bound."
   ]
  },
  {
   "cell_type": "markdown",
   "metadata": {},
   "source": [
    "## Subgradient Optimization"
   ]
  },
  {
   "cell_type": "markdown",
   "metadata": {},
   "source": [
    "* When updating lambdas, we basically want to maximize the lower bound.\n",
    "* To solve this problem, we use a subgradient optimization method."
   ]
  },
  {
   "cell_type": "markdown",
   "metadata": {},
   "source": [
    "## Summary"
   ]
  },
  {
   "cell_type": "markdown",
   "metadata": {},
   "source": [
    "1. Which constraints to be relaxed\n",
    "2. How to obtain a feasible solution -> upper bound\n",
    "3. how to update the Lagrangian multiplier -> lower bound"
   ]
  },
  {
   "cell_type": "markdown",
   "metadata": {},
   "source": [
    "## Example : The p-Median Problem"
   ]
  },
  {
   "cell_type": "markdown",
   "metadata": {},
   "source": [
    "* Facility location problem\n",
    "* NP-hard"
   ]
  },
  {
   "cell_type": "code",
   "execution_count": 1,
   "metadata": {},
   "outputs": [],
   "source": [
    "using DelimitedFiles\n",
    "using JuMP, GLPK\n",
    "using PyPlot"
   ]
  },
  {
   "cell_type": "code",
   "execution_count": 2,
   "metadata": {},
   "outputs": [
    {
     "data": {
      "text/plain": [
       "3"
      ]
     },
     "execution_count": 2,
     "metadata": {},
     "output_type": "execute_result"
    }
   ],
   "source": [
    "# Solving the p-median problem by Lagrangian Relaxation\n",
    "p=3"
   ]
  },
  {
   "cell_type": "markdown",
   "metadata": {},
   "source": [
    "### 1. Reading the Data File"
   ]
  },
  {
   "cell_type": "code",
   "execution_count": 3,
   "metadata": {},
   "outputs": [
    {
     "data": {
      "text/plain": [
       "7×10 Matrix{Float64}:\n",
       " 10.0   7.0  11.0  12.0  32.0  15.0  20.0  26.0   4.0  41.0\n",
       " 13.0  17.0  31.0  37.0  21.0   5.0  13.0  15.0  14.0  12.0\n",
       "  4.0  13.0  14.0  22.0   8.0  31.0  26.0  11.0  12.0  23.0\n",
       " 21.0  21.0  13.0  18.0   9.0  27.0  11.0  16.0  26.0  32.0\n",
       " 32.0  18.0  11.0  14.0  11.0  11.0  16.0  32.0  34.0   8.0\n",
       " 15.0   9.0  13.0  12.0  14.0  15.0  32.0   8.0  12.0   9.0\n",
       " 28.0  32.0  15.0   2.0  17.0  12.0   9.0   6.0  11.0   6.0"
      ]
     },
     "execution_count": 3,
     "metadata": {},
     "output_type": "execute_result"
    }
   ],
   "source": [
    "# Reading demand data\n",
    "d, header = readdlm(\"ch10_demand.csv\", ',', header=true)\n",
    "\n",
    "# Reading transportation cost data\n",
    "data = readdlm(\"ch10_cost.csv\", ',')\n",
    "cc = data[2:end, 2:end]\n",
    "c = convert(Array{Float64,2}, cc)"
   ]
  },
  {
   "cell_type": "code",
   "execution_count": 4,
   "metadata": {},
   "outputs": [],
   "source": [
    "# the length of 'd' and the number of columns in 'c' must match\n",
    "@assert length(d) == size(c,2) # If the given statement is true, it just does nothing and proceeds to the next line of the code"
   ]
  },
  {
   "cell_type": "markdown",
   "metadata": {},
   "source": [
    "* 10 customers and 7 candidate locations"
   ]
  },
  {
   "cell_type": "code",
   "execution_count": 5,
   "metadata": {},
   "outputs": [],
   "source": [
    "locations = 1:size(c,1) # the set, I = {1,2,...,7}\n",
    "customers = 1:length(d) # the set, J = {1,2,...,10}\n",
    "\n",
    "# making these data global so that any function can access data\n",
    "global locations, customers, c"
   ]
  },
  {
   "cell_type": "markdown",
   "metadata": {},
   "source": [
    "### 2. Solving the p-Median Problem Optimally"
   ]
  },
  {
   "cell_type": "code",
   "execution_count": 6,
   "metadata": {},
   "outputs": [
    {
     "data": {
      "text/plain": [
       "optimal (generic function with 1 method)"
      ]
     },
     "execution_count": 6,
     "metadata": {},
     "output_type": "execute_result"
    }
   ],
   "source": [
    "function optimal(p)\n",
    "    m = Model(GLPK.Optimizer)\n",
    "\n",
    "    @variable(m, x[i in locations, j in customers] >= 0)\n",
    "    @variable(m, y[i in locations], Bin)\n",
    "\n",
    "    @objective(m, Min, sum(d[j]*c[i,j]*x[i,j] for i in locations, j in customers))\n",
    "\n",
    "    @constraint(m, [j in customers], sum(x[i,j] for i in locations) == 1)\n",
    "    @constraint(m, sum(y[i] for i in locations) == p)\n",
    "    @constraint(m, [i in locations, j in customers], x[i,j] <= y[i])\n",
    "\n",
    "    optimize!(m)\n",
    "\n",
    "    Z_opt = objective_value(m)\n",
    "    x_opt = value.(x)\n",
    "    y_opt = value.(y)\n",
    "\n",
    "    return Z_opt, x_opt, y_opt\n",
    "end"
   ]
  },
  {
   "cell_type": "markdown",
   "metadata": {},
   "source": [
    "### 3. Lagrangian Relaxation"
   ]
  },
  {
   "cell_type": "markdown",
   "metadata": {},
   "source": [
    "To apply the Lagrangian relaxation method, we relax the first constraint that enforces the total assignment for each demand is 100%."
   ]
  },
  {
   "cell_type": "markdown",
   "metadata": {},
   "source": [
    "### 4.Finding the Lower bounds"
   ]
  },
  {
   "cell_type": "code",
   "execution_count": 14,
   "metadata": {},
   "outputs": [
    {
     "data": {
      "text/plain": [
       "lower_bound (generic function with 1 method)"
      ]
     },
     "execution_count": 14,
     "metadata": {},
     "output_type": "execute_result"
    }
   ],
   "source": [
    "function lower_bound(lambda)\n",
    "    # Step 1: Computing v\n",
    "    v = Array{Float64}(undef, size(locations))\n",
    "    for i in locations\n",
    "      v[i] = 0\n",
    "      for j in customers\n",
    "        v[i] = v[i] + min(0, d[j]*c[i,j] - lambda[j] )\n",
    "      end\n",
    "    end\n",
    "  \n",
    "    # Step 2: Sorting v from the most negative to zero\n",
    "    idx = sortperm(v)\n",
    "  \n",
    "    # Step 3: Determine y\n",
    "    y = zeros(Int, size(locations))\n",
    "    y[idx[1:p]] .= 1\n",
    "  \n",
    "    # Step 4: Determine x\n",
    "    x = zeros(Int, length(locations), length(customers))\n",
    "    for i in locations, j in customers\n",
    "      if y[i]==1 && d[j]*c[i,j]-lambda[j]<0\n",
    "        x[i,j] = 1\n",
    "      end\n",
    "    end\n",
    "  \n",
    "    # Computing the Z_D(lambda^k)\n",
    "    Z_D = 0.0\n",
    "    for j in customers\n",
    "      Z_D = Z_D + lambda[j]\n",
    "      for i in locations\n",
    "        Z_D = Z_D + d[j]*c[i,j]*x[i,j] - lambda[j]*x[i,j]\n",
    "      end\n",
    "    end\n",
    "  \n",
    "    return Z_D, x, y\n",
    "  end"
   ]
  },
  {
   "cell_type": "markdown",
   "metadata": {},
   "source": [
    "### 5. Finding Upper Bounds"
   ]
  },
  {
   "cell_type": "code",
   "execution_count": 8,
   "metadata": {},
   "outputs": [
    {
     "data": {
      "text/plain": [
       "upper_bound (generic function with 1 method)"
      ]
     },
     "execution_count": 8,
     "metadata": {},
     "output_type": "execute_result"
    }
   ],
   "source": [
    "function upper_bound(y)\n",
    "    # Computing x, given y\n",
    "    x = zeros(Int, length(locations), length(customers))\n",
    "    for j in customers\n",
    "      idx = argmin( c[:,j] + (1 .- y) .* maximum(c) )\n",
    "      x[idx,j] = 1\n",
    "    end\n",
    "  \n",
    "    # Computing Z\n",
    "    Z = 0.0\n",
    "    for i in locations\n",
    "      for j in customers\n",
    "        Z = Z + d[j]*c[i,j]*x[i,j]\n",
    "      end\n",
    "    end\n",
    "  \n",
    "    return Z, x\n",
    "  end"
   ]
  },
  {
   "cell_type": "markdown",
   "metadata": {},
   "source": [
    "### 6. Updating the Lagrangian Multiplier"
   ]
  },
  {
   "cell_type": "markdown",
   "metadata": {},
   "source": [
    "Subgradient optimization method"
   ]
  },
  {
   "cell_type": "code",
   "execution_count": 15,
   "metadata": {},
   "outputs": [
    {
     "data": {
      "text/plain": [
       "lagrangian_relaxation (generic function with 1 method)"
      ]
     },
     "execution_count": 15,
     "metadata": {},
     "output_type": "execute_result"
    }
   ],
   "source": [
    "function lagrangian_relaxation(p)\n",
    "    # The maximum number of iterations allowed\n",
    "    MAX_ITER = 10000\n",
    "\n",
    "    # To track the upper and lower bounds\n",
    "    UB = Array{Float64}(undef, 0)\n",
    "    LB = Array{Float64}(undef, 0)\n",
    "\n",
    "    # The best-known upper and lower bounds\n",
    "    Z_UB = Inf\n",
    "    Z_LB = -Inf\n",
    "\n",
    "    # The best-known feasible solutions\n",
    "    x_best = zeros(length(locations), length(customers))\n",
    "    y_best = zeros(length(locations))\n",
    "\n",
    "    # Initial multiplier\n",
    "    lambda = zeros(size(customers))\n",
    "\n",
    "    for k=1:MAX_ITER\n",
    "      # Obtaining the lower and upper bounds\n",
    "      Z_D, x_D, y = lower_bound(lambda)\n",
    "      Z, x = upper_bound(y)\n",
    "\n",
    "      # Updating the upper bound\n",
    "      if Z < Z_UB\n",
    "        Z_UB = Z\n",
    "        x_best = x\n",
    "        y_best = y\n",
    "      end\n",
    "\n",
    "      # Updating the lower bound\n",
    "      if Z_D > Z_LB\n",
    "        Z_LB = Z_D\n",
    "      end\n",
    "\n",
    "      # Adding the bounds from the current iteration to the record\n",
    "      push!(UB, Z)\n",
    "      push!(LB, Z_D)\n",
    "\n",
    "      # Determining the step size and updating the multiplier\n",
    "      theta = 1.0\n",
    "      residual = 1 .- transpose(sum(x_D, dims=1))\n",
    "      t = theta * (Z_UB - Z_D) / sum(residual.^2)\n",
    "      lambda = lambda + t * residual\n",
    "\n",
    "      # Computing the optimality gap\n",
    "      opt_gap = (Z_UB-Z_LB) / Z_UB\n",
    "      if opt_gap < 0.000001\n",
    "        break\n",
    "      end\n",
    "    end\n",
    "\n",
    "    return Z_UB, x_best, y_best, UB, LB\n",
    "end"
   ]
  },
  {
   "cell_type": "code",
   "execution_count": 34,
   "metadata": {},
   "outputs": [
    {
     "name": "stdout",
     "output_type": "stream",
     "text": [
      "The optimal solution is: 1029.0\n"
     ]
    }
   ],
   "source": [
    "# Finding the exact optimal solution\n",
    "Z_opt, x_opt, y_opt = optimal(p)\n",
    "\n",
    "println(\"The optimal solution is: \", Z_opt)"
   ]
  },
  {
   "cell_type": "code",
   "execution_count": 35,
   "metadata": {},
   "outputs": [
    {
     "name": "stdout",
     "output_type": "stream",
     "text": [
      "The best-known upper bound is: 1029.0\n"
     ]
    }
   ],
   "source": [
    "# Finding a solution by Lagrangian relaxation\n",
    "Z_UB, x_best, y_best, UB, LB = lagrangian_relaxation(p)\n",
    "println(\"The best-known upper bound is: \", Z_UB)"
   ]
  },
  {
   "cell_type": "code",
   "execution_count": 13,
   "metadata": {},
   "outputs": [],
   "source": [
    "iter = 1:length(LB)\n",
    "fig = figure()\n",
    "\n",
    "# Plotting two datasets\n",
    "plot(iter, LB, color=\"red\", linewidth=2.0, linestyle=\"-\",\n",
    "   marker=\"o\", label=\"Lower Bound\")\n",
    "plot(iter, UB, color=\"blue\", linewidth=2.0, linestyle=\"-.\",\n",
    "   marker=\"D\", label=\"Upper Bound\")\n",
    "\n",
    "# Labeling axes\n",
    "xlabel(L\"iteration clock $k$\", fontsize=\"xx-large\")\n",
    "ylabel(\"Bounds\", fontsize=\"xx-large\")\n",
    "\n",
    "# Putting the legend and determining the location\n",
    "legend(loc=\"lower right\", fontsize=\"x-large\")\n",
    "\n",
    "# Add grid lines\n",
    "grid(color=\"#DDDDDD\", linestyle=\"-\", linewidth=1.0)\n",
    "tick_params(axis=\"both\", which=\"major\", labelsize=\"x-large\")\n",
    "\n",
    "# Title\n",
    "title(\"Lower and Upper Bounds\")\n",
    "savefig(\"ch10_iterations.png\")\n",
    "#savefig(\"iterations.pdf\")\n",
    "close(fig)"
   ]
  },
  {
   "cell_type": "markdown",
   "metadata": {},
   "source": [
    "![result](ch10_iterations.png)\n"
   ]
  }
 ],
 "metadata": {
  "kernelspec": {
   "display_name": "Julia 1.9.3",
   "language": "julia",
   "name": "julia-1.9"
  },
  "language_info": {
   "file_extension": ".jl",
   "mimetype": "application/julia",
   "name": "julia",
   "version": "1.9.3"
  }
 },
 "nbformat": 4,
 "nbformat_minor": 2
}
