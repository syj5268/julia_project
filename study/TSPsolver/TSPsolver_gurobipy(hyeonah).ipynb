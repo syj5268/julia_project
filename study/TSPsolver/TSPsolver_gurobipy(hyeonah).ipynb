{
 "cells": [
  {
   "cell_type": "code",
   "execution_count": 12,
   "id": "2e30c62f",
   "metadata": {},
   "outputs": [],
   "source": [
    "import sys\n",
    "import time\n",
    "import numpy as np\n",
    "import pickle\n",
    "from itertools import product\n",
    "import gurobipy as gp\n",
    "from gurobipy import GRB"
   ]
  },
  {
   "cell_type": "code",
   "execution_count": 13,
   "id": "90b2da4e",
   "metadata": {},
   "outputs": [
    {
     "name": "stdout",
     "output_type": "stream",
     "text": [
      "[42. 72.  0. 30. 15.  9. 19. 35. 40. 54. 42. 69. 20. 88.  3. 67. 42. 56.\n",
      " 14. 20. 80. 97. 31. 69. 88. 89.  9.  4. 17. 88. 10. 42. 96. 53. 69. 32.\n",
      " 69. 83.  2. 75. 99. 75. 28. 79. 10. 45. 91. 29. 29. 13.  2. 68. 21. 27.\n",
      " 49.  5. 57. 15. 59. 70. 10. 41. 69. 41.  5. 54. 66. 51. 94. 59. 90. 14.\n",
      " 14. 81. 40. 17. 93. 35. 75. 73. 88. 62. 75. 35. 27. 90. 43. 96. 66. 62.\n",
      " 11. 95. 45. 58. 41. 24. 90. 57.  0. 62.]\n",
      "[ 33.  53.  89.  36.  91.  62.   2.  93.  69. 100.  17.  14.  93.  70.\n",
      "   7.  76.  75.  92.  71.  12.   2.   3.   3.  25.  86.  54.  55.  84.\n",
      "  12.  28.  59.  97.  56.   2.  80.  23.  81.  39.  86.  75.  56.  14.\n",
      "   6.  12.   4.  11.  23.  71.  56.   1.   7.  97.  57.  20.  25.  74.\n",
      "  20.  58.  97.  85.  24.  49.  62.  83.  16.   2.   7.  49.  61.  57.\n",
      "  32.  99.  58.  38.  55.  75.  67.  26.   7.  37.  63.  21.  75.   7.\n",
      "  26.  80.  19.  64.  52.  92.  26.   7.  74.  77.  91.  93.   1.  23.\n",
      "  62.  95.]\n"
     ]
    }
   ],
   "source": [
    "n = 100\n",
    "np.random.seed(1)\n",
    "x_c = np.random.rand(n) * 100\n",
    "y_c = np.random.rand(n) * 100\n",
    "x_c, y_c = x_c.round(), y_c.round()\n",
    "\n",
    "with open(\"x_{}.bin\".format(n), 'wb') as file:\n",
    "    pickle.dump(x_c, file)\n",
    "with open(\"y_{}.bin\".format(n), 'wb') as file:\n",
    "    pickle.dump(y_c, file)\n",
    "\n",
    "c = np.zeros((n, n))\n",
    "\n",
    "for i in range(n):\n",
    "    for j in range(n):\n",
    "        c[i, j] = np.sqrt((x_c[i] - x_c[j])**2 +(y_c[i] - y_c[j])**2).round()\n",
    "print(x_c)\n",
    "print(y_c)"
   ]
  },
  {
   "cell_type": "code",
   "execution_count": 14,
   "id": "d1ac700c",
   "metadata": {},
   "outputs": [],
   "source": [
    "def subtour(edges):\n",
    "    unvisited = list(range(n))\n",
    "    cycle = range(n+1)  # initial length has 1 more city\n",
    "    while unvisited:  # true if list is non-empty\n",
    "        thiscycle = []\n",
    "        neighbors = unvisited\n",
    "        while neighbors:\n",
    "            current = neighbors[0]\n",
    "            thiscycle.append(current)\n",
    "            unvisited.remove(current)\n",
    "            neighbors = [j for i, j in edges.select(current, '*')\n",
    "                         if j in unvisited]\n",
    "        if len(cycle) > len(thiscycle):\n",
    "            cycle = thiscycle\n",
    "    return cycle"
   ]
  },
  {
   "cell_type": "code",
   "execution_count": 15,
   "id": "fc953b05",
   "metadata": {},
   "outputs": [],
   "source": [
    "def call_back(model, where):\n",
    "    if where == GRB.Callback.MIPSOL:\n",
    "        vals = model.cbGetSolution(model._x)\n",
    "        selected = gp.tuplelist((i, j) for i, j in vals.keys() if vals[i, j] > 0.5)\n",
    "        tour = subtour(selected)\n",
    "        complement = [i for i in range(n) if i not in tour]\n",
    "        if len(tour) < n:\n",
    "            m.cbLazy(gp.quicksum(model._x[i, j] for i, j in product(tour, complement)) >= 1)\n",
    "#             expr = gp.LinExpr()\n",
    "#             for i in tour:\n",
    "#                 for j in complement:\n",
    "#                     expr.addTerms(1.0, model._x[i, j])\n",
    "#             m.cbLazy(expr >= 1)"
   ]
  },
  {
   "cell_type": "code",
   "execution_count": 16,
   "id": "5e1dfbb2",
   "metadata": {
    "scrolled": true
   },
   "outputs": [
    {
     "name": "stdout",
     "output_type": "stream",
     "text": [
      "Set parameter Username\n",
      "Academic license - for non-commercial use only - expires 2024-11-21\n",
      "Set parameter LazyConstraints to value 1\n",
      "Set parameter TimeLimit to value 1800\n",
      "Gurobi Optimizer version 11.0.0 build v11.0.0rc2 (linux64 - \"Ubuntu 22.04.3 LTS\")\n",
      "\n",
      "CPU model: AMD Ryzen 9 5900X 12-Core Processor, instruction set [SSE2|AVX|AVX2]\n",
      "Thread count: 12 physical cores, 24 logical processors, using up to 24 threads\n",
      "\n",
      "Optimize a model with 200 rows, 10000 columns and 19800 nonzeros\n",
      "Model fingerprint: 0x8b937637\n",
      "Variable types: 0 continuous, 10000 integer (10000 binary)\n",
      "Coefficient statistics:\n",
      "  Matrix range     [1e+00, 1e+00]\n",
      "  Objective range  [1e+00, 1e+02]\n",
      "  Bounds range     [1e+00, 1e+00]\n",
      "  RHS range        [1e+00, 1e+00]\n",
      "Presolve time: 0.01s\n",
      "Presolved: 200 rows, 10000 columns, 19800 nonzeros\n",
      "Variable types: 0 continuous, 10000 integer (10000 binary)\n",
      "\n",
      "Root relaxation: objective 6.030000e+02, 203 iterations, 0.00 seconds (0.00 work units)\n",
      "\n",
      "    Nodes    |    Current Node    |     Objective Bounds      |     Work\n",
      " Expl Unexpl |  Obj  Depth IntInf | Incumbent    BestBd   Gap | It/Node Time\n",
      "\n",
      "     0     0  603.00000    0    -          -  603.00000      -     -    0s\n",
      "     0     0  604.00000    0   14          -  604.00000      -     -    0s\n",
      "     0     0  611.00000    0   14          -  611.00000      -     -    0s\n",
      "     0     2  612.00000    0   14          -  612.00000      -     -    0s\n",
      "* 2299  1281              29     772.0000000  633.00000  18.0%  14.2    1s\n",
      "H 3445  1400                     757.0000000  751.00000  0.79%  17.0    1s\n",
      "\n",
      "Cutting planes:\n",
      "  Gomory: 21\n",
      "  Clique: 2\n",
      "  Mod-K: 29\n",
      "  RLT: 1\n",
      "\n",
      "Explored 3458 nodes (60618 simplex iterations) in 1.88 seconds (2.13 work units)\n",
      "Thread count was 24 (of 24 available processors)\n",
      "\n",
      "Solution count 2: 757 772 \n",
      "\n",
      "Optimal solution found (tolerance 1.00e-04)\n",
      "Best objective 7.570000000000e+02, best bound 7.570000000000e+02, gap 0.0000%\n",
      "\n",
      "User-callback calls 7515, time in user-callback 0.52 sec\n",
      "Time: 1.8929219245910645\n",
      "Optimal tour: [0, 54, 97, 56, 81, 23, 79, 88, 1, 62, 69, 67, 61, 74, 48, 52, 57, 72, 26, 30, 5, 98, 55, 27, 38, 2, 71, 4, 12, 95, 75, 18, 47, 8, 92, 16, 63, 94, 7, 31, 9, 58, 17, 89, 99, 51, 59, 36, 34, 93, 15, 39, 82, 24, 85, 13, 80, 76, 87, 68, 40, 32, 25, 37, 73, 70, 29, 46, 91, 21, 96, 20, 78, 43, 41, 11, 66, 65, 33, 45, 86, 10, 83, 22, 42, 19, 28, 6, 49, 44, 14, 50, 64, 60, 90, 84, 53, 35, 77, 3]\n",
      "Optimal cost: 757\n",
      "\n"
     ]
    }
   ],
   "source": [
    "m = gp.Model()\n",
    "x = m.addVars(n, n, obj = c, vtype = GRB.BINARY, name='x')\n",
    "\n",
    "# m.addConstrs(x.sum(i, '*') == 1 for i in range(n))\n",
    "for i in range(n):\n",
    "    m.addConstr(sum(x[i,j] for j in range(n) if j != i) == 1)\n",
    "    m.addConstr(sum(x[j,i] for j in range(n) if j != i) == 1)\n",
    "#     m.addConstr(x[i, i] == 0)\n",
    "\n",
    "m.write(\"out.lp\")\n",
    "\n",
    "start_time = time.time()\n",
    "m._x = x\n",
    "m.Params.lazyConstraints = 1\n",
    "m.Params.timeLimit = 1800\n",
    "m.optimize(call_back)\n",
    "\n",
    "x_val = m.getAttr('x', x)\n",
    "\n",
    "selected = gp.tuplelist((i, j) for i, j in x_val.keys() if x_val[i, j] > 0.5)\n",
    "tour = subtour(selected)\n",
    "# tour = find_tour(x_val)\n",
    "\n",
    "# assert len(tour) == n\n",
    "\n",
    "print('Time:', time.time() - start_time)\n",
    "print('Optimal tour: %s' % str(tour))\n",
    "print('Optimal cost: %g' % m.objVal)\n",
    "print('')"
   ]
  },
  {
   "cell_type": "code",
   "execution_count": 17,
   "id": "585b2bca",
   "metadata": {},
   "outputs": [],
   "source": [
    "def visualize_points(x, y, title=None, tour=None, show_number=False):\n",
    "\n",
    "    border = 5\n",
    "    plt.xlim(0 - border, 100 + border)\n",
    "    plt.ylim(0 - border, 100 + border)\n",
    "    \n",
    "    plt.xticks([])\n",
    "    plt.yticks([])\n",
    "    \n",
    "    if title:\n",
    "        plt.title(title)\n",
    "    \n",
    "    if tour is None:\n",
    "        plt.scatter(x, y)\n",
    "    else:\n",
    "        plt.plot(x[tour], y[tour], marker='o')\n",
    "    \n",
    "    if show_number:\n",
    "        for i in range(x.shape[0]):\n",
    "            plt.text(x[i], y[i], str(i), color=\"red\", fontsize=12)\n",
    "        \n",
    "    plt.show()\n",
    "    plt.close('all')"
   ]
  },
  {
   "cell_type": "code",
   "execution_count": 18,
   "id": "62e682f1",
   "metadata": {},
   "outputs": [
    {
     "data": {
      "image/png": "[encoded data removed]",
      "text/plain": [
       "<Figure size 432x288 with 1 Axes>"
      ]
     },
     "metadata": {},
     "output_type": "display_data"
    }
   ],
   "source": [
    "import matplotlib.pyplot as plt\n",
    "tour.append(tour[0])\n",
    "visualize_points(x_c, y_c, \"{} cities\".format(n), tour=tour)"
   ]
  }
 ],
 "metadata": {
  "kernelspec": {
   "display_name": "Python 3 (ipykernel)",
   "language": "python",
   "name": "python3"
  },
  "language_info": {
   "codemirror_mode": {
    "name": "ipython",
    "version": 3
   },
   "file_extension": ".py",
   "mimetype": "text/x-python",
   "name": "python",
   "nbconvert_exporter": "python",
   "pygments_lexer": "ipython3",
   "version": "3.10.12"
  }
 },
 "nbformat": 4,
 "nbformat_minor": 5
}
