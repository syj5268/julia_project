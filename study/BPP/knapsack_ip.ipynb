{
 "cells": [
  {
   "cell_type": "markdown",
   "metadata": {},
   "source": [
    "Reference : https://jump.dev/JuMP.jl/stable/tutorials/linear/knapsack/"
   ]
  },
  {
   "cell_type": "code",
   "execution_count": 1,
   "metadata": {},
   "outputs": [],
   "source": [
    "using JuMP\n",
    "import HiGHS"
   ]
  },
  {
   "cell_type": "markdown",
   "metadata": {},
   "source": [
    "### Data"
   ]
  },
  {
   "cell_type": "code",
   "execution_count": 4,
   "metadata": {},
   "outputs": [],
   "source": [
    "n = 8;\n",
    "capacity = 102.0;\n",
    "profit = [15.0, 100.0, 90.0, 60.0, 40.0, 15.0, 10.0, 1.0];\n",
    "weight = [2.0, 20.0, 20.0, 30.0, 40.0, 30.0, 60.0, 10.0];"
   ]
  },
  {
   "cell_type": "markdown",
   "metadata": {},
   "source": [
    "### Formulation"
   ]
  },
  {
   "cell_type": "code",
   "execution_count": 5,
   "metadata": {},
   "outputs": [
    {
     "data": {
      "text/plain": [
       "A JuMP Model\n",
       "Feasibility problem with:\n",
       "Variables: 0\n",
       "Model mode: AUTOMATIC\n",
       "CachingOptimizer state: EMPTY_OPTIMIZER\n",
       "Solver name: HiGHS"
      ]
     },
     "execution_count": 5,
     "metadata": {},
     "output_type": "execute_result"
    }
   ],
   "source": [
    "model = Model(HiGHS.Optimizer)"
   ]
  },
  {
   "cell_type": "code",
   "execution_count": 6,
   "metadata": {},
   "outputs": [
    {
     "data": {
      "text/latex": [
       "$$ \\begin{aligned}\n",
       "\\max\\quad & 15 x_{1} + 100 x_{2} + 90 x_{3} + 60 x_{4} + 40 x_{5} + 15 x_{6} + 10 x_{7} + x_{8}\\\\\n",
       "\\text{Subject to} \\quad & 2 x_{1} + 20 x_{2} + 20 x_{3} + 30 x_{4} + 40 x_{5} + 30 x_{6} + 60 x_{7} + 10 x_{8} \\leq 102\\\\\n",
       " & x_{1} \\in \\{0, 1\\}\\\\\n",
       " & x_{2} \\in \\{0, 1\\}\\\\\n",
       " & x_{3} \\in \\{0, 1\\}\\\\\n",
       " & x_{4} \\in \\{0, 1\\}\\\\\n",
       " & x_{5} \\in \\{0, 1\\}\\\\\n",
       " & x_{6} \\in \\{0, 1\\}\\\\\n",
       " & x_{7} \\in \\{0, 1\\}\\\\\n",
       " & x_{8} \\in \\{0, 1\\}\\\\\n",
       "\\end{aligned} $$"
      ]
     },
     "metadata": {},
     "output_type": "display_data"
    }
   ],
   "source": [
    "@variable(model, x[1:n], Bin)\n",
    "@objective(model, Max, sum(profit[i] * x[i] for i in 1:n))\n",
    "@constraint(model, sum(weight[i] * x[i] for i in 1:n) <= capacity)\n",
    "print(model)"
   ]
  },
  {
   "cell_type": "code",
   "execution_count": 7,
   "metadata": {},
   "outputs": [
    {
     "name": "stdout",
     "output_type": "stream",
     "text": [
      "Running HiGHS 1.6.0: Copyright (c) 2023 HiGHS under MIT licence terms\n",
      "Presolving model\n",
      "1 rows, 8 cols, 8 nonzeros\n",
      "1 rows, 7 cols, 7 nonzeros\n",
      "Objective function is integral with scale 1\n",
      "\n",
      "Solving MIP model with:\n",
      "   1 rows\n",
      "   7 cols (7 binary, 0 integer, 0 implied int., 0 continuous)\n",
      "   7 nonzeros\n",
      "\n",
      "        Nodes      |    B&B Tree     |            Objective Bounds              |  Dynamic Constraints |       Work      \n",
      "     Proc. InQueue |  Leaves   Expl. | BestBound       BestSol              Gap |   Cuts   InLp Confl. | LpIters     Time\n",
      "\n",
      "         0       0         0   0.00%   331             -inf                 inf        0      0      0         0     0.0s\n",
      " S       0       0         0   0.00%   331             265               24.91%        0      0      0         0     0.0s\n",
      "\n",
      "Solving report\n",
      "  Status            Optimal\n",
      "  Primal bound      280\n",
      "  Dual bound        280\n",
      "  Gap               0% (tolerance: 0.01%)\n",
      "  Solution status   feasible\n",
      "                    280 (objective)\n",
      "                    0 (bound viol.)\n",
      "                    0 (int. viol.)\n",
      "                    0 (row viol.)\n",
      "  Timing            0.00 (total)\n",
      "                    0.00 (presolve)\n",
      "                    0.00 (postsolve)\n",
      "  Nodes             1\n",
      "  LP iterations     2 (total)\n",
      "                    0 (strong br.)\n",
      "                    0 (separation)\n",
      "                    0 (heuristics)\n"
     ]
    },
    {
     "data": {
      "text/plain": [
       "* Solver : HiGHS\n",
       "\n",
       "* Status\n",
       "  Result count       : 1\n",
       "  Termination status : OPTIMAL\n",
       "  Message from the solver:\n",
       "  \"kHighsModelStatusOptimal\"\n",
       "\n",
       "* Candidate solution (result #1)\n",
       "  Primal status      : FEASIBLE_POINT\n",
       "  Dual status        : NO_SOLUTION\n",
       "  Objective value    : 2.80000e+02\n",
       "  Objective bound    : 2.80000e+02\n",
       "  Relative gap       : 0.00000e+00\n",
       "\n",
       "* Work counters\n",
       "  Solve time (sec)   : 1.26815e-03\n",
       "  Simplex iterations : 2\n",
       "  Barrier iterations : -1\n",
       "  Node count         : 1\n"
      ]
     },
     "execution_count": 7,
     "metadata": {},
     "output_type": "execute_result"
    }
   ],
   "source": [
    "optimize!(model)\n",
    "solution_summary(model)"
   ]
  },
  {
   "cell_type": "code",
   "execution_count": 8,
   "metadata": {},
   "outputs": [
    {
     "name": "stdout",
     "output_type": "stream",
     "text": [
      "Items chosen: [1, 2, 3, 4, 6]\n"
     ]
    }
   ],
   "source": [
    "items_chosen = [i for i in 1:n if value(x[i]) > 0.5]\n",
    "println(\"Items chosen: \", items_chosen)"
   ]
  },
  {
   "cell_type": "markdown",
   "metadata": {},
   "source": [
    "### Wrting a function"
   ]
  },
  {
   "cell_type": "code",
   "execution_count": 9,
   "metadata": {},
   "outputs": [
    {
     "name": "stdout",
     "output_type": "stream",
     "text": [
      "Objective is: 280.0\n",
      "Solution is:\n",
      "x[1] = 1, c[1] / w[1] = 7.5\n",
      "x[2] = 1, c[2] / w[2] = 5.0\n",
      "x[3] = 1, c[3] / w[3] = 4.5\n",
      "x[4] = 1, c[4] / w[4] = 2.0\n",
      "x[5] = 0, c[5] / w[5] = 1.0\n",
      "x[6] = 1, c[6] / w[6] = 0.5\n",
      "x[7] = 0, c[7] / w[7] = 0.16666666666666666\n",
      "x[8] = 0, c[8] / w[8] = 0.1\n"
     ]
    },
    {
     "data": {
      "text/plain": [
       "5-element Vector{Int64}:\n",
       " 1\n",
       " 2\n",
       " 3\n",
       " 4\n",
       " 6"
      ]
     },
     "execution_count": 9,
     "metadata": {},
     "output_type": "execute_result"
    }
   ],
   "source": [
    "function solve_knapsack_problem(;\n",
    "    profit::Vector{Float64},\n",
    "    weight::Vector{Float64},\n",
    "    capacity::Float64,\n",
    ")\n",
    "    n = length(weight)\n",
    "    # The profit and weight vectors must be of equal length.\n",
    "    @assert length(profit) == n\n",
    "    model = Model(HiGHS.Optimizer)\n",
    "    set_silent(model)\n",
    "    @variable(model, x[1:n], Bin)\n",
    "    @objective(model, Max, profit' * x)\n",
    "    @constraint(model, weight' * x <= capacity)\n",
    "    optimize!(model)\n",
    "    @assert termination_status(model) == OPTIMAL\n",
    "    @assert primal_status(model) == FEASIBLE_POINT\n",
    "    \n",
    "    println(\"Objective is: \", objective_value(model))\n",
    "    println(\"Solution is:\")\n",
    "    for i in 1:n\n",
    "        print(\"x[$i] = \", round(Int, value(x[i])))\n",
    "        println(\", c[$i] / w[$i] = \", profit[i] / weight[i])\n",
    "    end\n",
    "    chosen_items = [i for i in 1:n if value(x[i]) > 0.5]\n",
    "    return return chosen_items\n",
    "end\n",
    "\n",
    "solve_knapsack_problem(; profit = profit, weight = weight, capacity = capacity)"
   ]
  }
 ],
 "metadata": {
  "kernelspec": {
   "display_name": "Julia 1.9.3",
   "language": "julia",
   "name": "julia-1.9"
  },
  "language_info": {
   "file_extension": ".jl",
   "mimetype": "application/julia",
   "name": "julia",
   "version": "1.9.3"
  }
 },
 "nbformat": 4,
 "nbformat_minor": 2
}
