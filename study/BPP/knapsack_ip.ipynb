{
 "cells": [
  {
   "cell_type": "code",
   "execution_count": 1,
   "metadata": {},
   "outputs": [],
   "source": [
    "using JuMP\n",
    "import HiGHS"
   ]
  },
  {
   "cell_type": "markdown",
   "metadata": {},
   "source": [
    "## Single Knapsack Problem"
   ]
  },
  {
   "cell_type": "markdown",
   "metadata": {},
   "source": [
    "Reference : https://jump.dev/JuMP.jl/stable/tutorials/linear/knapsack/"
   ]
  },
  {
   "cell_type": "markdown",
   "metadata": {},
   "source": [
    "### Data"
   ]
  },
  {
   "cell_type": "code",
   "execution_count": 2,
   "metadata": {},
   "outputs": [],
   "source": [
    "n = 8;\n",
    "capacity = 102.0;\n",
    "profit = [15.0, 100.0, 90.0, 60.0, 40.0, 15.0, 10.0, 1.0];\n",
    "weight = [2.0, 20.0, 20.0, 30.0, 40.0, 30.0, 60.0, 10.0];"
   ]
  },
  {
   "cell_type": "markdown",
   "metadata": {},
   "source": [
    "### Formulation"
   ]
  },
  {
   "cell_type": "code",
   "execution_count": 3,
   "metadata": {},
   "outputs": [
    {
     "data": {
      "text/plain": [
       "A JuMP Model\n",
       "Feasibility problem with:\n",
       "Variables: 0\n",
       "Model mode: AUTOMATIC\n",
       "CachingOptimizer state: EMPTY_OPTIMIZER\n",
       "Solver name: HiGHS"
      ]
     },
     "execution_count": 3,
     "metadata": {},
     "output_type": "execute_result"
    }
   ],
   "source": [
    "model = Model(HiGHS.Optimizer)"
   ]
  },
  {
   "cell_type": "code",
   "execution_count": 4,
   "metadata": {},
   "outputs": [
    {
     "data": {
      "text/latex": [
       "$$ \\begin{aligned}\n",
       "\\max\\quad & 15 x_{1} + 100 x_{2} + 90 x_{3} + 60 x_{4} + 40 x_{5} + 15 x_{6} + 10 x_{7} + x_{8}\\\\\n",
       "\\text{Subject to} \\quad & 2 x_{1} + 20 x_{2} + 20 x_{3} + 30 x_{4} + 40 x_{5} + 30 x_{6} + 60 x_{7} + 10 x_{8} \\leq 102\\\\\n",
       " & x_{1} \\in \\{0, 1\\}\\\\\n",
       " & x_{2} \\in \\{0, 1\\}\\\\\n",
       " & x_{3} \\in \\{0, 1\\}\\\\\n",
       " & x_{4} \\in \\{0, 1\\}\\\\\n",
       " & x_{5} \\in \\{0, 1\\}\\\\\n",
       " & x_{6} \\in \\{0, 1\\}\\\\\n",
       " & x_{7} \\in \\{0, 1\\}\\\\\n",
       " & x_{8} \\in \\{0, 1\\}\\\\\n",
       "\\end{aligned} $$"
      ]
     },
     "metadata": {},
     "output_type": "display_data"
    }
   ],
   "source": [
    "@variable(model, x[1:n], Bin)\n",
    "@objective(model, Max, sum(profit[i] * x[i] for i in 1:n))\n",
    "@constraint(model, sum(weight[i] * x[i] for i in 1:n) <= capacity)\n",
    "print(model)"
   ]
  },
  {
   "cell_type": "code",
   "execution_count": 5,
   "metadata": {},
   "outputs": [
    {
     "name": "stdout",
     "output_type": "stream",
     "text": [
      "Running HiGHS 1.6.0: Copyright (c) 2023 HiGHS under MIT licence terms\n",
      "Presolving model\n",
      "1 rows, 8 cols, 8 nonzeros\n",
      "1 rows, 7 cols, 7 nonzeros\n",
      "Objective function is integral with scale 1\n",
      "\n",
      "Solving MIP model with:\n",
      "   1 rows\n",
      "   7 cols (7 binary, 0 integer, 0 implied int., 0 continuous)\n",
      "   7 nonzeros\n",
      "\n",
      "        Nodes      |    B&B Tree     |            Objective Bounds              |  Dynamic Constraints |       Work      \n",
      "     Proc. InQueue |  Leaves   Expl. | BestBound       BestSol              Gap |   Cuts   InLp Confl. | LpIters     Time\n",
      "\n",
      "         0       0         0   0.00%   331             -inf                 inf        0      0      0         0     0.0s\n",
      " S       0       0         0   0.00%   331             265               24.91%        0      0      0         0     0.0s\n",
      "\n",
      "Solving report\n",
      "  Status            Optimal\n",
      "  Primal bound      280\n",
      "  Dual bound        280\n",
      "  Gap               0% (tolerance: 0.01%)\n",
      "  Solution status   feasible\n",
      "                    280 (objective)\n",
      "                    0 (bound viol.)\n",
      "                    0 (int. viol.)\n",
      "                    0 (row viol.)\n",
      "  Timing            0.00 (total)\n",
      "                    0.00 (presolve)\n",
      "                    0.00 (postsolve)\n",
      "  Nodes             1\n",
      "  LP iterations     2 (total)\n",
      "                    0 (strong br.)\n",
      "                    0 (separation)\n",
      "                    0 (heuristics)\n"
     ]
    },
    {
     "data": {
      "text/plain": [
       "* Solver : HiGHS\n",
       "\n",
       "* Status\n",
       "  Result count       : 1\n",
       "  Termination status : OPTIMAL\n",
       "  Message from the solver:\n",
       "  \"kHighsModelStatusOptimal\"\n",
       "\n",
       "* Candidate solution (result #1)\n",
       "  Primal status      : FEASIBLE_POINT\n",
       "  Dual status        : NO_SOLUTION\n",
       "  Objective value    : 2.80000e+02\n",
       "  Objective bound    : 2.80000e+02\n",
       "  Relative gap       : 0.00000e+00\n",
       "\n",
       "* Work counters\n",
       "  Solve time (sec)   : 1.00231e-03\n",
       "  Simplex iterations : 2\n",
       "  Barrier iterations : -1\n",
       "  Node count         : 1\n"
      ]
     },
     "execution_count": 5,
     "metadata": {},
     "output_type": "execute_result"
    }
   ],
   "source": [
    "optimize!(model)\n",
    "solution_summary(model)"
   ]
  },
  {
   "cell_type": "code",
   "execution_count": 6,
   "metadata": {},
   "outputs": [
    {
     "name": "stdout",
     "output_type": "stream",
     "text": [
      "Items chosen: [1, 2, 3, 4, 6]\n"
     ]
    }
   ],
   "source": [
    "items_chosen = [i for i in 1:n if value(x[i]) > 0.5]\n",
    "println(\"Items chosen: \", items_chosen)"
   ]
  },
  {
   "cell_type": "markdown",
   "metadata": {},
   "source": [
    "### Wrting a function"
   ]
  },
  {
   "cell_type": "code",
   "execution_count": 7,
   "metadata": {},
   "outputs": [
    {
     "name": "stdout",
     "output_type": "stream",
     "text": [
      "Objective is: 280.0\n",
      "Solution is:\n",
      "x[1] = 1, c[1] / w[1] = 7.5\n",
      "x[2] = 1, c[2] / w[2] = 5.0\n",
      "x[3] = 1, c[3] / w[3] = 4.5\n",
      "x[4] = 1, c[4] / w[4] = 2.0\n",
      "x[5] = 0, c[5] / w[5] = 1.0\n",
      "x[6] = 1, c[6] / w[6] = 0.5\n",
      "x[7] = 0, c[7] / w[7] = 0.16666666666666666\n",
      "x[8] = 0, c[8] / w[8] = 0.1\n"
     ]
    },
    {
     "data": {
      "text/plain": [
       "5-element Vector{Int64}:\n",
       " 1\n",
       " 2\n",
       " 3\n",
       " 4\n",
       " 6"
      ]
     },
     "execution_count": 7,
     "metadata": {},
     "output_type": "execute_result"
    }
   ],
   "source": [
    "function solve_knapsack_problem(;\n",
    "    profit::Vector{Float64},\n",
    "    weight::Vector{Float64},\n",
    "    capacity::Float64,\n",
    ")\n",
    "    n = length(weight)\n",
    "    # The profit and weight vectors must be of equal length.\n",
    "    @assert length(profit) == n\n",
    "    model = Model(HiGHS.Optimizer)\n",
    "    set_silent(model)\n",
    "    @variable(model, x[1:n], Bin)\n",
    "    @objective(model, Max, profit' * x)\n",
    "    @constraint(model, weight' * x <= capacity)\n",
    "    #print(model)\n",
    "    optimize!(model)\n",
    "    @assert termination_status(model) == OPTIMAL\n",
    "    @assert primal_status(model) == FEASIBLE_POINT\n",
    "    \n",
    "    println(\"Objective is: \", objective_value(model))\n",
    "    println(\"Solution is:\")\n",
    "    for i in 1:n\n",
    "        print(\"x[$i] = \", round(Int, value(x[i])))\n",
    "        println(\", c[$i] / w[$i] = \", profit[i] / weight[i])\n",
    "    end\n",
    "    chosen_items = [i for i in 1:n if value(x[i]) > 0.5]\n",
    "    return return chosen_items\n",
    "end\n",
    "\n",
    "solve_knapsack_problem(; profit = profit, weight = weight, capacity = capacity)"
   ]
  },
  {
   "cell_type": "markdown",
   "metadata": {},
   "source": [
    "## Multiple Knapsack Problem"
   ]
  },
  {
   "cell_type": "markdown",
   "metadata": {},
   "source": [
    "<img src=\"MKP_formulation.jpeg\" alt=\"Math\" width=\"600\">"
   ]
  },
  {
   "cell_type": "markdown",
   "metadata": {},
   "source": [
    "### Data"
   ]
  },
  {
   "cell_type": "code",
   "execution_count": 8,
   "metadata": {},
   "outputs": [],
   "source": [
    "n = 10;\n",
    "m = 2;\n",
    "capacity = [103.0, 156.0];\n",
    "profit = [78.0, 35.0, 89.0, 36.0, 94.0, 75.0, 74.0, 79.0, 80.0, 16.0];\n",
    "weight = [18.0, 9.0, 23.0, 20.0, 59.0, 61.0, 70.0, 75.0, 76.0, 30.0];"
   ]
  },
  {
   "cell_type": "markdown",
   "metadata": {},
   "source": [
    "### Formulation"
   ]
  },
  {
   "cell_type": "code",
   "execution_count": 9,
   "metadata": {},
   "outputs": [
    {
     "data": {
      "text/plain": [
       "solve_multiple_knapsack_problem (generic function with 1 method)"
      ]
     },
     "execution_count": 9,
     "metadata": {},
     "output_type": "execute_result"
    }
   ],
   "source": [
    "function solve_multiple_knapsack_problem(;\n",
    "    profit::Vector{Float64},\n",
    "    weight::Vector{Float64},\n",
    "    capacity::Vector{Float64},\n",
    ")\n",
    "    n = length(weight)\n",
    "    m = length(capacity)\n",
    "    # The profit and weight vectors must be of equal length.\n",
    "    @assert length(profit) == n\n",
    "    model = Model(HiGHS.Optimizer)\n",
    "    set_silent(model) \n",
    "    x= @variable(model, x[1:m, 1:n]>=0, Bin)\n",
    "    @objective(model, Max, sum(profit[j] * x[i, j] for i in 1:m, j in 1:n))\n",
    "    for i in 1:m\n",
    "        @constraint(model, weight' * x[i, :] <= capacity[i])\n",
    "    end\n",
    "    for j in 1:n\n",
    "        @constraint(model, sum(x[i, j] for i in 1:m) <= 1)\n",
    "    end\n",
    "    #print(model)\n",
    "    optimize!(model)\n",
    "    @assert termination_status(model) == OPTIMAL\n",
    "    @assert primal_status(model) == FEASIBLE_POINT\n",
    "    print(solution_summary(model))\n",
    "    return model, x\n",
    "end"
   ]
  },
  {
   "cell_type": "code",
   "execution_count": 10,
   "metadata": {},
   "outputs": [
    {
     "name": "stdout",
     "output_type": "stream",
     "text": [
      "* Solver : HiGHS\n",
      "\n",
      "* Status\n",
      "  Result count       : 1\n",
      "  Termination status : OPTIMAL\n",
      "  Message from the solver:\n",
      "  \"kHighsModelStatusOptimal\"\n",
      "\n",
      "* Candidate solution (result #1)\n",
      "  Primal status      : FEASIBLE_POINT\n",
      "  Dual status        : NO_SOLUTION\n",
      "  Objective value    : 4.52000e+02\n",
      "  Objective bound    : 4.52000e+02\n",
      "  Relative gap       : 0.00000e+00\n",
      "\n",
      "* Work counters\n",
      "  Solve time (sec)   : 1.01039e-02\n",
      "  Simplex iterations : 169\n",
      "  Barrier iterations : -1\n",
      "  Node count         : 13\n"
     ]
    },
    {
     "data": {
      "text/plain": [
       "(A JuMP Model\n",
       "Maximization problem with:\n",
       "Variables: 20\n",
       "Objective function type: AffExpr\n",
       "`AffExpr`-in-`MathOptInterface.LessThan{Float64}`: 12 constraints\n",
       "`VariableRef`-in-`MathOptInterface.GreaterThan{Float64}`: 20 constraints\n",
       "`VariableRef`-in-`MathOptInterface.ZeroOne`: 20 constraints\n",
       "Model mode: AUTOMATIC\n",
       "CachingOptimizer state: ATTACHED_OPTIMIZER\n",
       "Solver name: HiGHS\n",
       "Names registered in the model: x, VariableRef[x[1,1] x[1,2] … x[1,9] x[1,10]; x[2,1] x[2,2] … x[2,9] x[2,10]])"
      ]
     },
     "execution_count": 10,
     "metadata": {},
     "output_type": "execute_result"
    }
   ],
   "source": [
    "model_solved, x = solve_multiple_knapsack_problem(; profit = profit, weight = weight, capacity = capacity)"
   ]
  },
  {
   "cell_type": "markdown",
   "metadata": {},
   "source": [
    "### Output"
   ]
  },
  {
   "cell_type": "code",
   "execution_count": 11,
   "metadata": {},
   "outputs": [
    {
     "data": {
      "text/plain": [
       "output_multiple_knapsack_problem (generic function with 1 method)"
      ]
     },
     "execution_count": 11,
     "metadata": {},
     "output_type": "execute_result"
    }
   ],
   "source": [
    "function output_multiple_knapsack_problem(model, x)\n",
    "    if termination_status(model) == MOI.OPTIMAL || termination_status(model) == MOI.LOCALLY_SOLVED\n",
    "        println(\"An optimal solution has been found:\")\n",
    "        println(\"Optimal objective value: \", objective_value(model))\n",
    "    end\n",
    "    println(\"Solution: \")\n",
    "    chosen_items = []\n",
    "    for i in 1:m\n",
    "        println(\"::Knapsack $i (Capacity:\", capacity[i], \")::\")\n",
    "        for j in 1:n\n",
    "            print(\"x[$i, $j] = \", round(Int, value(x[i, j])))\n",
    "            println(\", c[$j] / w[$j] = \", profit[j] / weight[j])\n",
    "        end\n",
    "        push!(chosen_items,[j for j in 1:n if value(x[i,j]) > 0.5])\n",
    "        println(\"Items chosen: \", chosen_items[i])\n",
    "        println(\"Capacity used: \", sum(value(x[i, j]) * weight[j] for j in 1:n))\n",
    "        println()\n",
    "    end\n",
    "    return chosen_items\n",
    "end"
   ]
  },
  {
   "cell_type": "code",
   "execution_count": 12,
   "metadata": {},
   "outputs": [
    {
     "name": "stdout",
     "output_type": "stream",
     "text": [
      "An optimal solution has been found:\n",
      "Optimal objective value: 452.0\n",
      "Solution: \n",
      "::Knapsack 1 (Capacity:103.0)::\n",
      "x[1, 1] = 1, c[1] / w[1] = 4.333333333333333\n",
      "x[1, 2] = 0, c[2] / w[2] = 3.888888888888889\n",
      "x[1, 3] = 1, c[3] / w[3] = 3.869565217391304\n",
      "x[1, 4] = 0, c[4] / w[4] = 1.8\n",
      "x[1, 5] = 0, c[5] / w[5] = 1.5932203389830508\n",
      "x[1, 6] = 1, c[6] / w[6] = 1.2295081967213115\n",
      "x[1, 7] = 0, c[7] / w[7] = 1.0571428571428572\n",
      "x[1, 8] = 0, c[8] / w[8] = 1.0533333333333332\n",
      "x[1, 9] = 0, c[9] / w[9] = 1.0526315789473684\n",
      "x[1, 10] = 0, c[10] / w[10] = 0.5333333333333333\n",
      "Items chosen: [1, 3, 6]\n",
      "Capacity used: 102.0\n",
      "\n",
      "::Knapsack 2 (Capacity:156.0)::\n",
      "x[2, 1] = 0, c[1] / w[1] = 4.333333333333333\n",
      "x[2, 2] = 0, c[2] / w[2] = 3.888888888888889\n",
      "x[2, 3] = 0, c[3] / w[3] = 3.869565217391304\n",
      "x[2, 4] = 1, c[4] / w[4] = 1.8\n",
      "x[2, 5] = 1, c[5] / w[5] = 1.5932203389830508\n",
      "x[2, 6] = 0, c[6] / w[6] = 1.2295081967213115\n",
      "x[2, 7] = 0, c[7] / w[7] = 1.0571428571428572\n",
      "x[2, 8] = 0, c[8] / w[8] = 1.0533333333333332\n",
      "x[2, 9] = 1, c[9] / w[9] = 1.0526315789473684\n",
      "x[2, 10] = 0, c[10] / w[10] = 0.5333333333333333\n",
      "Items chosen: [4, 5, 9]\n",
      "Capacity used: 155.0\n",
      "\n"
     ]
    },
    {
     "data": {
      "text/plain": [
       "2-element Vector{Any}:\n",
       " [1, 3, 6]\n",
       " [4, 5, 9]"
      ]
     },
     "execution_count": 12,
     "metadata": {},
     "output_type": "execute_result"
    }
   ],
   "source": [
    "output_multiple_knapsack_problem(model_solved, x)"
   ]
  }
 ],
 "metadata": {
  "kernelspec": {
   "display_name": "Julia 1.9.3",
   "language": "julia",
   "name": "julia-1.9"
  },
  "language_info": {
   "file_extension": ".jl",
   "mimetype": "application/julia",
   "name": "julia",
   "version": "1.9.3"
  }
 },
 "nbformat": 4,
 "nbformat_minor": 2
}
