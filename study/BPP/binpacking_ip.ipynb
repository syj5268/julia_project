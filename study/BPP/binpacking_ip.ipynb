{
 "cells": [
  {
   "cell_type": "code",
   "execution_count": null,
   "metadata": {},
   "outputs": [],
   "source": [
    "using JuMP\n",
    "using GLPK"
   ]
  },
  {
   "cell_type": "markdown",
   "metadata": {},
   "source": [
    "### Data"
   ]
  },
  {
   "cell_type": "code",
   "execution_count": 18,
   "metadata": {},
   "outputs": [
    {
     "data": {
      "text/plain": [
       "100"
      ]
     },
     "execution_count": 18,
     "metadata": {},
     "output_type": "execute_result"
    }
   ],
   "source": [
    "# Example usage\n",
    "item_sizes = [49, 41, 34, 33, 29, 26, 26, 22, 20, 19]\n",
    "bin_capacity = 100"
   ]
  },
  {
   "cell_type": "markdown",
   "metadata": {},
   "source": [
    "### Formulation"
   ]
  },
  {
   "cell_type": "markdown",
   "metadata": {},
   "source": [
    "<img src=\"BPP_formulation.jpeg\" alt=\"Math\" width=\"600\">"
   ]
  },
  {
   "cell_type": "code",
   "execution_count": 21,
   "metadata": {},
   "outputs": [
    {
     "data": {
      "text/plain": [
       "solve_bin_packing (generic function with 1 method)"
      ]
     },
     "execution_count": 21,
     "metadata": {},
     "output_type": "execute_result"
    }
   ],
   "source": [
    "\n",
    "function solve_bin_packing(item_sizes, bin_capacity)\n",
    "    num_items = length(item_sizes)\n",
    "    num_bins = length(item_sizes)\n",
    "\n",
    "    model = Model(optimizer_with_attributes(GLPK.Optimizer))\n",
    "\n",
    "    @variable(model, x[1:num_bins, 1:num_items], Bin)  # Binary variables indicating whether an item is in a bin\n",
    "    @variable(model, y[1:num_bins], Bin)  # Binary variables indicating whether a bin is used\n",
    "\n",
    "    # Each item must be assigned to exactly one bin\n",
    "    for j in 1:num_items\n",
    "        @constraint(model, sum(x[i, j] for i in 1:num_bins) == 1)\n",
    "    end\n",
    "\n",
    "    # Each bin's capacity constraint\n",
    "    for i in 1:num_bins\n",
    "        @constraint(model, sum(item_sizes[j] * x[i, j] for j in 1:num_items) <= bin_capacity * y[i])\n",
    "    end\n",
    "\n",
    "    # Objective: minimize the number of bins used\n",
    "    @objective(model, Min, sum(y[i] for i in 1:num_bins)) \n",
    "     \n",
    "    optimize!(model)\n",
    "    print(solution_summary(model))\n",
    "    println(\"The minimum number of bins required is: \", objective_value(model))\n",
    "\n",
    "    # Extract the solution\n",
    "    solution_x = value.(x)\n",
    "    solution_y = value.(y)\n",
    "\n",
    "    return solution_x, solution_y\n",
    "end"
   ]
  },
  {
   "cell_type": "code",
   "execution_count": 22,
   "metadata": {},
   "outputs": [
    {
     "name": "stdout",
     "output_type": "stream",
     "text": [
      "* Solver : GLPK\n",
      "\n",
      "* Status\n",
      "  Result count       : 1\n",
      "  Termination status : OPTIMAL\n",
      "  Message from the solver:\n",
      "  \"Solution is optimal\"\n",
      "\n",
      "* Candidate solution (result #1)\n",
      "  Primal status      : FEASIBLE_POINT\n",
      "  Dual status        : NO_SOLUTION\n",
      "  Objective value    : 3.00000e+00\n",
      "  Objective bound    : 3.00000e+00\n",
      "  Relative gap       : 0.00000e+00\n",
      "\n",
      "* Work counters\n",
      "  Solve time (sec)   : 1.09792e-03\n",
      "The minimum number of bins required is: 3.0\n"
     ]
    },
    {
     "data": {
      "text/plain": [
       "([1.0 0.0 … 0.0 0.0; 0.0 0.0 … 0.0 0.0; … ; 0.0 0.0 … 0.0 0.0; 0.0 0.0 … 1.0 1.0], [1.0, 0.0, 1.0, 0.0, 0.0, 0.0, 0.0, 0.0, 0.0, 1.0])"
      ]
     },
     "execution_count": 22,
     "metadata": {},
     "output_type": "execute_result"
    }
   ],
   "source": [
    "solution_x, solution_y = solve_bin_packing(item_sizes, bin_capacity)"
   ]
  },
  {
   "cell_type": "markdown",
   "metadata": {},
   "source": [
    "### Output"
   ]
  },
  {
   "cell_type": "code",
   "execution_count": 23,
   "metadata": {},
   "outputs": [
    {
     "name": "stdout",
     "output_type": "stream",
     "text": [
      "Item packing:\n",
      "Item 1 is in Bin 1\n",
      "Item 5 is in Bin 1\n",
      "Item 8 is in Bin 1\n",
      "Item 2 is in Bin 3\n",
      "Item 4 is in Bin 3\n",
      "Item 7 is in Bin 3\n",
      "Item 3 is in Bin 10\n",
      "Item 6 is in Bin 10\n",
      "Item 9 is in Bin 10\n",
      "Item 10 is in Bin 10\n"
     ]
    }
   ],
   "source": [
    "println(\"Item packing:\")\n",
    "for i in 1:length(item_sizes)\n",
    "    for j in 1:length(item_sizes)\n",
    "        if solution_x[i, j] == 1\n",
    "            println(\"Item \", j, \" is in Bin \", i)\n",
    "        end\n",
    "    end\n",
    "end"
   ]
  }
 ],
 "metadata": {
  "kernelspec": {
   "display_name": "Julia 1.9.3",
   "language": "julia",
   "name": "julia-1.9"
  },
  "language_info": {
   "file_extension": ".jl",
   "mimetype": "application/julia",
   "name": "julia",
   "version": "1.9.3"
  }
 },
 "nbformat": 4,
 "nbformat_minor": 2
}
