{
 "cells": [
  {
   "cell_type": "code",
   "execution_count": 1,
   "metadata": {},
   "outputs": [],
   "source": [
    "using JuMP, Gurobi, CPLEX\n",
    "using LinearAlgebra"
   ]
  },
  {
   "cell_type": "markdown",
   "metadata": {},
   "source": [
    "# Problem setting"
   ]
  },
  {
   "cell_type": "markdown",
   "metadata": {},
   "source": [
    "- 1 vehicle\n",
    "- Nodes: Depot, 5 Pickup locations (P1 to P5), and 5 Delivery locations (D1 to D5).\n",
    "- Time Windows: Randomly generated for each pickup and delivery location.\n",
    "- Stack Limit: 3 (maximum number of items the vehicle can carry).\n",
    "- Cost Matrix: Randomly generated costs between each pair of locations."
   ]
  },
  {
   "cell_type": "markdown",
   "metadata": {},
   "source": [
    "## Gurobi"
   ]
  },
  {
   "cell_type": "code",
   "execution_count": 67,
   "metadata": {},
   "outputs": [
    {
     "data": {
      "text/plain": [
       "53"
      ]
     },
     "execution_count": 67,
     "metadata": {},
     "output_type": "execute_result"
    }
   ],
   "source": [
    "# Number of pickup and delivery requests\n",
    "num_requests = 5\n",
    "num_nodes = 2 * num_requests + 2 # Includes two depot nodes\n",
    "\n",
    "# Define the set of pickup nodes P and delivery nodes D\n",
    "P = 1:num_requests\n",
    "D = num_requests+1:2*num_requests\n",
    "depot_start = 2*num_requests+1\n",
    "depot_end = num_nodes\n",
    "vehicle_capacity = 3\n",
    "\n",
    "# Define time windows for each node (here, we're setting random examples)\n",
    "time_windows = [(0, 24)] # Time window for the initial depot\n",
    "time_windows = vcat(time_windows, [(rand(1:10), rand(11:20)) for _ in P], [(rand(21:30), rand(31:40)) for _ in D])\n",
    "time_windows = vcat(time_windows, [(30, 40)]) # Time window for the final depot\n",
    "\n",
    "# Define load sizes for pickup and delivery requests (here, we're setting random examples)\n",
    "loads = [1 for _ in P] # Random loads for pickups\n",
    "loads = vcat(loads, -loads) # Loads for deliveries are the negated pickups\n",
    "loads = vcat([0], loads, [0]) # Loads for depots are zero\n",
    "\n",
    "# Random service durations at each location\n",
    "service_durations = rand(1:4, 2*num_requests) # Service durations between 1 to 4 units\n",
    "service_durations = vcat([0], service_durations, [0])\n",
    "\n",
    "# Define a random symmetric travel time matrix respecting triangular inequality\n",
    "# 노드의 무작위 위치 생성\n",
    "node_positions = [rand(0:10, 2) for _ in 1:num_nodes]\n",
    "\n",
    "# 유클리드 거리를 사용하여 이동 시간 계산\n",
    "function calculate_travel_time(pos1, pos2)\n",
    "    return round(norm(pos1 - pos2)) # 유클리드 거리를 기반으로 이동 시간 계산\n",
    "end\n",
    "\n",
    "# 이동 시간 및 대칭 비용 행렬 생성\n",
    "travel_time_matrix = zeros(num_nodes, num_nodes)\n",
    "cost_matrix = zeros(num_nodes, num_nodes)\n",
    "for i in 1:num_nodes\n",
    "    for j in 1:num_nodes\n",
    "        if i != j\n",
    "            travel_time_matrix[i,j] = calculate_travel_time(node_positions[i], node_positions[j])\n",
    "            cost_matrix[i,j] = travel_time_matrix[i,j] # 비용은 이동 시간에 비례한다고 가정\n",
    "        end\n",
    "    end\n",
    "end\n",
    "\n",
    "# Define the maximum route duration (here, we're setting a random example)\n",
    "max_route_duration = rand(50:100)"
   ]
  },
  {
   "cell_type": "code",
   "execution_count": 60,
   "metadata": {},
   "outputs": [
    {
     "data": {
      "text/plain": [
       "12-element Vector{Tuple{Int64, Int64}}:\n",
       " (0, 24)\n",
       " (3, 13)\n",
       " (1, 20)\n",
       " (9, 15)\n",
       " (2, 15)\n",
       " (1, 18)\n",
       " (21, 40)\n",
       " (26, 37)\n",
       " (29, 37)\n",
       " (21, 35)\n",
       " (21, 39)\n",
       " (30, 40)"
      ]
     },
     "execution_count": 60,
     "metadata": {},
     "output_type": "execute_result"
    }
   ],
   "source": [
    "time_windows"
   ]
  },
  {
   "cell_type": "code",
   "execution_count": 61,
   "metadata": {},
   "outputs": [
    {
     "data": {
      "text/plain": [
       "12-element Vector{Int64}:\n",
       "  0\n",
       "  1\n",
       "  1\n",
       "  1\n",
       "  1\n",
       "  1\n",
       " -1\n",
       " -1\n",
       " -1\n",
       " -1\n",
       " -1\n",
       "  0"
      ]
     },
     "execution_count": 61,
     "metadata": {},
     "output_type": "execute_result"
    }
   ],
   "source": [
    "loads"
   ]
  },
  {
   "cell_type": "code",
   "execution_count": 69,
   "metadata": {},
   "outputs": [
    {
     "data": {
      "text/plain": [
       "12-element Vector{Int64}:\n",
       " 0\n",
       " 4\n",
       " 3\n",
       " 1\n",
       " 3\n",
       " 3\n",
       " 1\n",
       " 1\n",
       " 3\n",
       " 1\n",
       " 4\n",
       " 0"
      ]
     },
     "execution_count": 69,
     "metadata": {},
     "output_type": "execute_result"
    }
   ],
   "source": [
    "service_durations"
   ]
  },
  {
   "cell_type": "code",
   "execution_count": 62,
   "metadata": {},
   "outputs": [
    {
     "data": {
      "text/plain": [
       "12×12 Matrix{Float64}:\n",
       " 0.0  3.0   7.0   4.0  1.0  1.0  2.0   5.0  3.0   4.0  2.0   6.0\n",
       " 3.0  0.0   6.0   7.0  4.0  4.0  1.0   4.0  1.0   5.0  3.0   5.0\n",
       " 7.0  6.0   0.0  10.0  7.0  8.0  7.0  10.0  7.0   4.0  5.0  11.0\n",
       " 4.0  7.0  10.0   0.0  4.0  4.0  6.0   8.0  7.0   6.0  5.0   9.0\n",
       " 1.0  4.0   7.0   4.0  0.0  1.0  3.0   6.0  4.0   4.0  2.0   7.0\n",
       " 1.0  4.0   8.0   4.0  1.0  0.0  3.0   5.0  4.0   5.0  3.0   6.0\n",
       " 2.0  1.0   7.0   6.0  3.0  3.0  0.0   4.0  1.0   5.0  3.0   4.0\n",
       " 5.0  4.0  10.0   8.0  6.0  5.0  4.0   0.0  3.0   9.0  7.0   1.0\n",
       " 3.0  1.0   7.0   7.0  4.0  4.0  1.0   3.0  0.0   6.0  4.0   4.0\n",
       " 4.0  5.0   4.0   6.0  4.0  5.0  5.0   9.0  6.0   0.0  2.0  10.0\n",
       " 2.0  3.0   5.0   5.0  2.0  3.0  3.0   7.0  4.0   2.0  0.0   8.0\n",
       " 6.0  5.0  11.0   9.0  7.0  6.0  4.0   1.0  4.0  10.0  8.0   0.0"
      ]
     },
     "execution_count": 62,
     "metadata": {},
     "output_type": "execute_result"
    }
   ],
   "source": [
    "cost_matrix"
   ]
  },
  {
   "cell_type": "code",
   "execution_count": 63,
   "metadata": {},
   "outputs": [
    {
     "data": {
      "text/plain": [
       "12×12 Matrix{Float64}:\n",
       " 0.0  3.0   7.0   4.0  1.0  1.0  2.0   5.0  3.0   4.0  2.0   6.0\n",
       " 3.0  0.0   6.0   7.0  4.0  4.0  1.0   4.0  1.0   5.0  3.0   5.0\n",
       " 7.0  6.0   0.0  10.0  7.0  8.0  7.0  10.0  7.0   4.0  5.0  11.0\n",
       " 4.0  7.0  10.0   0.0  4.0  4.0  6.0   8.0  7.0   6.0  5.0   9.0\n",
       " 1.0  4.0   7.0   4.0  0.0  1.0  3.0   6.0  4.0   4.0  2.0   7.0\n",
       " 1.0  4.0   8.0   4.0  1.0  0.0  3.0   5.0  4.0   5.0  3.0   6.0\n",
       " 2.0  1.0   7.0   6.0  3.0  3.0  0.0   4.0  1.0   5.0  3.0   4.0\n",
       " 5.0  4.0  10.0   8.0  6.0  5.0  4.0   0.0  3.0   9.0  7.0   1.0\n",
       " 3.0  1.0   7.0   7.0  4.0  4.0  1.0   3.0  0.0   6.0  4.0   4.0\n",
       " 4.0  5.0   4.0   6.0  4.0  5.0  5.0   9.0  6.0   0.0  2.0  10.0\n",
       " 2.0  3.0   5.0   5.0  2.0  3.0  3.0   7.0  4.0   2.0  0.0   8.0\n",
       " 6.0  5.0  11.0   9.0  7.0  6.0  4.0   1.0  4.0  10.0  8.0   0.0"
      ]
     },
     "execution_count": 63,
     "metadata": {},
     "output_type": "execute_result"
    }
   ],
   "source": [
    "travel_time_matrix"
   ]
  },
  {
   "cell_type": "code",
   "execution_count": 64,
   "metadata": {},
   "outputs": [
    {
     "data": {
      "text/plain": [
       "90"
      ]
     },
     "execution_count": 64,
     "metadata": {},
     "output_type": "execute_result"
    }
   ],
   "source": [
    "max_route_duration"
   ]
  },
  {
   "cell_type": "code",
   "execution_count": 74,
   "metadata": {},
   "outputs": [
    {
     "name": "stdout",
     "output_type": "stream",
     "text": [
      "Set parameter Username\n",
      "Academic license - for non-commercial use only - expires 2024-11-21\n"
     ]
    },
    {
     "ename": "LoadError",
     "evalue": "MethodError: no method matching isless(::QuadExpr, ::VariableRef)\n\n\u001b[0mClosest candidates are:\n\u001b[0m  isless(::Any, \u001b[91m::Missing\u001b[39m)\n\u001b[0m\u001b[90m   @\u001b[39m \u001b[90mBase\u001b[39m \u001b[90m\u001b[4mmissing.jl:88\u001b[24m\u001b[39m\n\u001b[0m  isless(\u001b[91m::Missing\u001b[39m, ::Any)\n\u001b[0m\u001b[90m   @\u001b[39m \u001b[90mBase\u001b[39m \u001b[90m\u001b[4mmissing.jl:87\u001b[24m\u001b[39m\n",
     "output_type": "error",
     "traceback": [
      "MethodError: no method matching isless(::QuadExpr, ::VariableRef)\n\n\u001b[0mClosest candidates are:\n\u001b[0m  isless(::Any, \u001b[91m::Missing\u001b[39m)\n\u001b[0m\u001b[90m   @\u001b[39m \u001b[90mBase\u001b[39m \u001b[90m\u001b[4mmissing.jl:88\u001b[24m\u001b[39m\n\u001b[0m  isless(\u001b[91m::Missing\u001b[39m, ::Any)\n\u001b[0m\u001b[90m   @\u001b[39m \u001b[90mBase\u001b[39m \u001b[90m\u001b[4mmissing.jl:87\u001b[24m\u001b[39m\n",
      "",
      "Stacktrace:",
      " [1] <(x::QuadExpr, y::VariableRef)",
      "   @ Base ./operators.jl:343",
      " [2] <=(x::QuadExpr, y::VariableRef)",
      "   @ Base ./operators.jl:392",
      " [3] >=(x::VariableRef, y::QuadExpr)",
      "   @ Base ./operators.jl:416",
      " [4] top-level scope",
      "   @ ./In[74]:36"
     ]
    }
   ],
   "source": [
    "# Initialize the model\n",
    "model = Model(Gurobi.Optimizer)\n",
    "\n",
    "# Define decision variables\n",
    "@variable(model, x[1:num_nodes, 1:num_nodes], Bin)\n",
    "@variable(model, service_time[1:num_nodes] >=0)\n",
    "@variable(model, vehicle_load[1:num_nodes] >=0)\n",
    "\n",
    "# Define the objective function to minimize the total cost\n",
    "@objective(model, Min, sum(cost_matrix[i,j] * x[i,j] for i in 1:num_nodes, j in 1:num_nodes))\n",
    "\n",
    "# Define the constraints\n",
    "# Each pickup and delivery match\n",
    "for i in P\n",
    "    @constraint(model, sum(x[i, j] for j in num_nodes) == 1)  \n",
    "    @constraint(model, sum(x[i, j] for j in num_nodes) - sum(x[i+num_requests,j] for j in num_nodes) == 0) \n",
    "end\n",
    "\n",
    "# Leave from and return to the depot\n",
    "@constraint(model, sum(x[depot_start, j] for j in num_nodes) == 1)  # Leave the depot\n",
    "@constraint(model, sum(x[i, depot_end] for i in num_nodes) == 1)  # Return to the depot\n",
    "\n",
    "for i in 1:num_nodes\n",
    "    @constraint(model, sum(x[i, j] for j in 1:num_nodes) - sum(x[j, i] for j in 1:num_nodes) == 0)\n",
    "end\n",
    "\n",
    "# Service time must fall within the time window for each node\n",
    "for i in 1:num_nodes\n",
    "    @constraint(model, service_time[i] >= time_windows[i][1])\n",
    "    @constraint(model, service_time[i] <= time_windows[i][2])\n",
    "end\n",
    "\n",
    "# Service time constraints\n",
    "for i in 1:num_nodes\n",
    "    for j in 1:num_nodes\n",
    "        service_time[j] >= (service_time[i] + service_durations[i] + travel_time_matrix[i,j]) * x[i,j]\n",
    "    end\n",
    "end\n",
    "\n",
    "# Vehicle load and capacity constraints\n",
    "for i in 1:num_nodes\n",
    "    for j in 1:num_nodes\n",
    "        if i != j\n",
    "            @constraint(model, vehicle_load[j] >= (vehicle_load[i] + loads[j]) * x[i,j])\n",
    "        end\n",
    "    end\n",
    "end\n",
    "\n",
    "for i in 1:num_nodes\n",
    "    @constraint(model, vehicle_load[i] <= min(vehicle_capacity, vehicle_capacity+loads[i]))\n",
    "    @constraint(model, vehicle_load[i] >= max(0, loads[i]))\n",
    "end\n",
    "\n",
    "# Solve the problem\n",
    "optimize!(model)\n",
    "\n",
    "# Check if the model has a solution\n",
    "if termination_status(model) == MOI.OPTIMAL || termination_status(model) == MOI.LOCALLY_SOLVED\n",
    "    println(\"An optimal solution has been found:\")\n",
    "    \n",
    "    # Print the route\n",
    "    println(\"Vehicle route:\")\n",
    "    for i in 1:num_nodes\n",
    "        for j in 1:num_nodes\n",
    "            if value(x[i,j]) > 0.9\n",
    "                println(\"Node $i to node $j\")\n",
    "            end\n",
    "        end\n",
    "    end\n",
    "    \n",
    "    # Print the service start times\n",
    "    println(\"\\nService start times:\")\n",
    "    for i in 1:2*\n",
    "        println(\"Node $i: \", value(service_time[i]))\n",
    "    end\n",
    "    \n",
    "    # Print the vehicle loads\n",
    "    println(\"\\nVehicle loads after each node:\")\n",
    "    for i in 1:num_nodes\n",
    "        println(\"Node $i: \", value(vehicle_load[i]))\n",
    "    end\n",
    "else\n",
    "    println(\"No optimal solution found. Status: \", termination_status(model))\n",
    "end\n"
   ]
  },
  {
   "cell_type": "code",
   "execution_count": 72,
   "metadata": {},
   "outputs": [
    {
     "data": {
      "text/plain": [
       "1"
      ]
     },
     "execution_count": 72,
     "metadata": {},
     "output_type": "execute_result"
    }
   ],
   "source": [
    "min(1,3)"
   ]
  },
  {
   "cell_type": "code",
   "execution_count": 9,
   "metadata": {},
   "outputs": [
    {
     "name": "stderr",
     "output_type": "stream",
     "text": [
      "\u001b[32m\u001b[1m   Resolving\u001b[22m\u001b[39m package versions...\n",
      "\u001b[32m\u001b[1m  No Changes\u001b[22m\u001b[39m to `~/.julia/environments/v1.9/Project.toml`\n",
      "\u001b[32m\u001b[1m  No Changes\u001b[22m\u001b[39m to `~/.julia/environments/v1.9/Manifest.toml`\n",
      "\u001b[32m\u001b[1m   Resolving\u001b[22m\u001b[39m package versions...\n",
      "\u001b[32m\u001b[1m  No Changes\u001b[22m\u001b[39m to `~/.julia/environments/v1.9/Project.toml`\n",
      "\u001b[32m\u001b[1m  No Changes\u001b[22m\u001b[39m to `~/.julia/environments/v1.9/Manifest.toml`\n"
     ]
    },
    {
     "name": "stdout",
     "output_type": "stream",
     "text": [
      "Set parameter Username\n",
      "Academic license - for non-commercial use only - expires 2024-11-21\n"
     ]
    },
    {
     "ename": "LoadError",
     "evalue": "BoundsError: attempt to access 10-element Vector{Int64} at index [11]",
     "output_type": "error",
     "traceback": [
      "BoundsError: attempt to access 10-element Vector{Int64} at index [11]",
      "",
      "Stacktrace:",
      " [1] getindex(A::Vector{Int64}, i1::Int64)",
      "   @ Base ./essentials.jl:13",
      " [2] macro expansion",
      "   @ ~/.julia/packages/MutableArithmetics/K9YPJ/src/rewrite.jl:321 [inlined]",
      " [3] macro expansion",
      "   @ ~/.julia/packages/JuMP/D44Aq/src/macros.jl:717 [inlined]",
      " [4] top-level scope",
      "   @ ./In[9]:68"
     ]
    }
   ],
   "source": [
    "\n",
    "\n",
    "# Define time windows for each node (example)\n",
    "time_windows = [(0,0)] # Depot\n",
    "time_windows = vcat(time_windows, [(rand(1:10), rand(11:20)) for _ in P], [(rand(21:30), rand(31:40)) for _ in D])\n",
    "time_windows = vcat(time_windows, [(40,40)]) # Depot\n",
    "\n",
    "# Define load sizes for pickup and delivery requests\n",
    "loads = [1 for _ in P] # Assuming a load size of 1 for simplicity\n",
    "loads = vcat(loads, -loads) # Delivery loads are negative\n",
    "\n",
    "# Define a symmetric cost matrix\n",
    "cost_matrix = [rand(1:10) for i in 1:num_nodes, j in 1:num_nodes]\n",
    "for i in 1:num_nodes\n",
    "    for j in i:num_nodes\n",
    "        cost_matrix[i,j] = cost_matrix[j,i] = (i == j) ? 0 : cost_matrix[i,j]\n",
    "    end\n",
    "end\n",
    "\n",
    "# Define a symmetric travel time matrix respecting triangular inequality\n",
    "travel_time_matrix = cost_matrix # For simplicity, using the same values as cost\n",
    "\n",
    "# Initialize the model\n",
    "model = Model(Gurobi.Optimizer)\n",
    "\n",
    "# Define decision variables\n",
    "@variable(model, x[1:num_nodes, 1:num_nodes], Bin)\n",
    "@variable(model, service_time[1:num_nodes])\n",
    "@variable(model, vehicle_load[1:num_nodes])\n",
    "\n",
    "# Define the objective function to minimize the total cost\n",
    "@objective(model, Min, sum(cost_matrix[i,j] * x[i,j] for i in 1:num_nodes, j in 1:num_nodes))\n",
    "\n",
    "# Constraints\n",
    "# Each pickup node must be visited exactly once\n",
    "for i in P\n",
    "    @constraint(model, sum(x[i,j] for j in [depot; D]) == 1)\n",
    "end\n",
    "\n",
    "# Flow conservation for the vehicle\n",
    "@constraint(model, sum(x[depot, j] for j in P) == 1)\n",
    "@constraint(model, sum(x[i, depot] for i in D) == 1)\n",
    "\n",
    "# Service time must fall within the time window for each node\n",
    "for i in 1:num_nodes\n",
    "    @constraint(model, service_time[i] >= time_windows[i][1])\n",
    "    @constraint(model, service_time[i] <= time_windows[i][2])\n",
    "end\n",
    "\n",
    "# The vehicle's load must not exceed its capacity after each pickup or delivery\n",
    "@constraint(model, vehicle_load[depot] == 0)\n",
    "for i in 1:num_nodes\n",
    "    for j in 1:num_nodes\n",
    "        if i != j\n",
    "            @constraint(model, vehicle_load[j] >= vehicle_load[i] + loads[i] * x[i,j])\n",
    "        end\n",
    "    end\n",
    "end\n",
    "\n",
    "# Solve the problem\n",
    "optimize!(model)\n",
    "\n",
    "# Check if the model has a solution\n",
    "if termination_status(model) == MOI.OPTIMAL || termination_status(model) == MOI.LOCALLY_SOLVED\n",
    "    println(\"An optimal solution has been found:\")\n",
    "    \n",
    "    # Print the route\n",
    "    println(\"Vehicle route:\")\n",
    "    for i in 1:num_nodes\n",
    "        for j in 1:num_nodes\n",
    "            if value(x[i,j]) > 0.9\n",
    "                println(\"Node $i to node $j\")\n",
    "            end\n",
    "        end\n",
    "    end\n",
    "    \n",
    "    # Print the service start times\n",
    "    println(\"\\nService start times:\")\n",
    "    for i in 1:num_nodes\n",
    "        println(\"Node $i: \", value(service_time[i]))\n",
    "    end\n",
    "    \n",
    "    # Print the vehicle loads\n",
    "    println(\"\\nVehicle loads after each node:\")\n",
    "    for i in 1:num_nodes\n",
    "        println(\"Node $i: \", value(vehicle_load[i]))\n",
    "    end\n",
    "else\n",
    "    println(\"No optimal solution found. Status: \", termination_status(model))\n",
    "end\n"
   ]
  },
  {
   "cell_type": "markdown",
   "metadata": {},
   "source": [
    "## Dynanic Programming"
   ]
  },
  {
   "cell_type": "code",
   "execution_count": null,
   "metadata": {},
   "outputs": [],
   "source": []
  },
  {
   "cell_type": "code",
   "execution_count": null,
   "metadata": {},
   "outputs": [],
   "source": []
  }
 ],
 "metadata": {
  "kernelspec": {
   "display_name": "Julia 1.9.3",
   "language": "julia",
   "name": "julia-1.9"
  },
  "language_info": {
   "file_extension": ".jl",
   "mimetype": "application/julia",
   "name": "julia",
   "version": "1.9.3"
  }
 },
 "nbformat": 4,
 "nbformat_minor": 2
}
