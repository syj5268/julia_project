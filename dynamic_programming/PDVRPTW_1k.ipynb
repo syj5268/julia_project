{
 "cells": [
  {
   "cell_type": "markdown",
   "metadata": {},
   "source": [
    "# Problem setting"
   ]
  },
  {
   "cell_type": "markdown",
   "metadata": {},
   "source": [
    "- 1 vehicle\n",
    "- Nodes: Depot, 5 Pickup locations (P1 to P5), and 5 Delivery locations (D1 to D5).\n",
    "- Time Windows: Randomly generated for each pickup and delivery location.\n",
    "- Stack Limit: 3 (maximum number of items the vehicle can carry).\n",
    "- Cost Matrix: Randomly generated costs between each pair of locations."
   ]
  },
  {
   "cell_type": "markdown",
   "metadata": {},
   "source": [
    "## Gurobi"
   ]
  },
  {
   "cell_type": "code",
   "execution_count": 2,
   "metadata": {},
   "outputs": [],
   "source": [
    "using JuMP, Gurobi, CPLEX"
   ]
  },
  {
   "cell_type": "code",
   "execution_count": 17,
   "metadata": {},
   "outputs": [
    {
     "data": {
      "text/plain": [
       "3"
      ]
     },
     "execution_count": 17,
     "metadata": {},
     "output_type": "execute_result"
    }
   ],
   "source": [
    "# Problem dimensions\n",
    "num_pickups = 5\n",
    "num_deliveries = 5\n",
    "num_nodes = 1 + num_pickups + num_deliveries # Including depot\n",
    "vehicle_capacity = 3"
   ]
  },
  {
   "cell_type": "code",
   "execution_count": 18,
   "metadata": {},
   "outputs": [
    {
     "data": {
      "text/plain": [
       "11×11 Matrix{Int64}:\n",
       "  0   7  2   7   2  10   5   3  5   6   9\n",
       " 10   0  5   7  10   9   7   6  5   4  10\n",
       "  7   9  0   4   4   8   8   7  1   8   4\n",
       " 10   7  4   0   5   6   8   8  4   6   6\n",
       " 10   7  8  10   0   5   8   6  7  10   3\n",
       "  9  10  3   7   7   0  10   9  2   2   7\n",
       " 10   3  6   7   3   4   0   7  5  10   9\n",
       "  8   3  3   1   9   5   6   0  1   7   8\n",
       "  8   1  8   8   9   2   5   1  0   9   6\n",
       "  9   5  3   4   3   9   7  10  1   0   6\n",
       "  7   5  7   6   4   3   5   6  8   4   0"
      ]
     },
     "execution_count": 18,
     "metadata": {},
     "output_type": "execute_result"
    }
   ],
   "source": [
    "# Random cost matrix (symmetric for simplicity)\n",
    "cost_matrix = rand(1:10, num_nodes, num_nodes)\n",
    "for i in 1:num_nodes\n",
    "    cost_matrix[i,i] = 0\n",
    "end\n",
    "\n",
    "cost_matrix"
   ]
  },
  {
   "cell_type": "code",
   "execution_count": 19,
   "metadata": {},
   "outputs": [
    {
     "data": {
      "text/plain": [
       "11-element Vector{Int64}:\n",
       " 3\n",
       " 2\n",
       " 4\n",
       " 3\n",
       " 1\n",
       " 3\n",
       " 4\n",
       " 2\n",
       " 3\n",
       " 4\n",
       " 4"
      ]
     },
     "execution_count": 19,
     "metadata": {},
     "output_type": "execute_result"
    }
   ],
   "source": [
    "# Random service durations at each location\n",
    "service_durations = rand(1:4, num_nodes) # Service durations between 1 to 4 units\n",
    "\n",
    "service_durations"
   ]
  },
  {
   "cell_type": "code",
   "execution_count": 20,
   "metadata": {},
   "outputs": [
    {
     "data": {
      "text/plain": [
       "11-element Vector{Tuple{Int64, Int64}}:\n",
       " (0, 24)\n",
       " (1, 5)\n",
       " (7, 15)\n",
       " (11, 16)\n",
       " (9, 14)\n",
       " (1, 4)\n",
       " (3, 7)\n",
       " (6, 11)\n",
       " (5, 13)\n",
       " (16, 17)\n",
       " (0, 7)"
      ]
     },
     "execution_count": 20,
     "metadata": {},
     "output_type": "execute_result"
    }
   ],
   "source": [
    "# Generate random time windows\n",
    "function generate_random_time_window()\n",
    "    start_time = rand(0:16)  # Start times between 0 and 16\n",
    "    end_time = start_time + rand(1:8)  # Duration between 1 and 8 hours\n",
    "    return (start_time, min(end_time, 24))  # Ensure end time doesn't exceed 24\n",
    "end\n",
    "\n",
    "# Time windows for each node, including depot\n",
    "time_windows = [(0, 24)]  # Depot is always open\n",
    "for _ in 1:(num_pickups + num_deliveries)\n",
    "    push!(time_windows, generate_random_time_window())\n",
    "end\n",
    "\n",
    "time_windows"
   ]
  },
  {
   "cell_type": "code",
   "execution_count": 21,
   "metadata": {},
   "outputs": [
    {
     "data": {
      "text/plain": [
       "11×11 Matrix{Int64}:\n",
       "  0  12   8   8   5  14   9  15   7  14  13\n",
       "  5   0  14  15  11   5  11   6  11  12   6\n",
       " 13   9   0  12   9  15  13   7   7   6  15\n",
       "  7   6   7   0   6  12  15   6   8  15  10\n",
       " 14   7  15   9   0   8   6   7  15   6   8\n",
       "  6  14   8  14  12   0  15   6  14  10  11\n",
       " 13   9   9  14   7   5   0  11  15  14  15\n",
       "  8   9   9   9  10   5  11   0   8  15   5\n",
       " 12   7  12  11  10  15   7  13   0   6  12\n",
       " 14  14   7  10   9   6   8  15  12   0  13\n",
       "  6  14  13  11  14  14   8  10  15  15   0"
      ]
     },
     "execution_count": 21,
     "metadata": {},
     "output_type": "execute_result"
    }
   ],
   "source": [
    "# Random travel times between each pair of locations\n",
    "travel_time_matrix = rand(5:15, num_nodes, num_nodes) # Travel times between 5 to 15 units\n",
    "for i in 1:num_nodes\n",
    "    travel_time_matrix[i,i] = 0\n",
    "end\n",
    "\n",
    "travel_time_matrix"
   ]
  },
  {
   "cell_type": "code",
   "execution_count": 22,
   "metadata": {},
   "outputs": [
    {
     "name": "stdout",
     "output_type": "stream",
     "text": [
      "Version identifier: 22.1.1.0 | 2022-11-28 | 9160aff4d\n",
      "Tried aggregator 1 time.\n",
      "MIP Presolve eliminated 83 rows and 11 columns.\n",
      "MIP Presolve modified 200 coefficients.\n",
      "Reduced MIP has 290 rows, 132 columns, and 1010 nonzeros.\n",
      "Reduced MIP has 110 binaries, 11 generals, 0 SOSs, and 0 indicators.\n",
      "Presolve time = 0.00 sec. (0.83 ticks)\n",
      "\n",
      "Root node processing (before b&c):\n",
      "  Real time             =    0.00 sec. (2.35 ticks)\n",
      "Parallel b&c, 24 threads:\n",
      "  Real time             =    0.00 sec. (0.00 ticks)\n",
      "  Sync time (average)   =    0.00 sec.\n",
      "  Wait time (average)   =    0.00 sec.\n",
      "                          ------------\n",
      "Total (root+branch&cut) =    0.00 sec. (2.35 ticks)\n"
     ]
    }
   ],
   "source": [
    "M = 10000\n",
    "\n",
    "# 모델\n",
    "model = Model(CPLEX.Optimizer)\n",
    "\n",
    "# 변수\n",
    "@variable(model, x[1:num_nodes, 1:num_nodes], Bin)\n",
    "@variable(model, service_start[1:num_nodes])\n",
    "@variable(model, vehicle_load[1:num_nodes], Int)\n",
    "\n",
    "# `M` 값 설정 - 충분히 큰 값으로 설정\n",
    "M = 10000\n",
    "\n",
    "# 목적 함수: 총 비용 최소화\n",
    "@objective(model, Min, sum(cost_matrix[i,j] * x[i,j] for i in 1:num_nodes, j in 1:num_nodes))\n",
    "\n",
    "# 제약 조건\n",
    "# 1. 각 픽업 및 배달은 정확히 한 번씩 방문\n",
    "for j in 2:num_nodes\n",
    "    @constraint(model, sum(x[i,j] for i in 1:num_nodes) == 1)\n",
    "    @constraint(model, sum(x[j,i] for i in 1:num_nodes) == 1)\n",
    "end\n",
    "\n",
    "# 2. 유효 경로를 보장하기 위한 흐름 제약 조건\n",
    "for j in 2:num_nodes\n",
    "    @constraint(model, sum(x[i,j] for i in 1:num_nodes) - sum(x[j,i] for i in 1:num_nodes) == 0)\n",
    "end\n",
    "\n",
    "# 3. 이동 및 서비스 시간을 포함한 시간 창 제약 조건 업데이트\n",
    "for i in 1:num_nodes\n",
    "    for j in 1:num_nodes\n",
    "        if i != j\n",
    "            @constraint(model, service_start[j] >= service_start[i] + service_durations[i] + travel_time_matrix[i,j] - (1 - x[i,j]) * M)\n",
    "        end\n",
    "    end\n",
    "end\n",
    "\n",
    "# 4. 차량 용량 제약 조건\n",
    "for i in 1:num_nodes\n",
    "    @constraint(model, vehicle_load[i] >= 0)\n",
    "    @constraint(model, vehicle_load[i] <= vehicle_capacity)\n",
    "end\n",
    "\n",
    "# 차량 하중 업데이트 제약 조건\n",
    "for i in 1:num_nodes\n",
    "    for j in 1:num_nodes\n",
    "        if i != j\n",
    "            # 픽업은 2에서 num_pickups + 1까지이며 배달은 이후 노드\n",
    "            pickup = 2:num_pickups+1\n",
    "            delivery = num_pickups+2:num_nodes\n",
    "\n",
    "            @constraint(model, vehicle_load[j] >= vehicle_load[i] - vehicle_capacity * (1 - x[i,j]))\n",
    "            if i in pickup\n",
    "                @constraint(model, vehicle_load[j] >= vehicle_load[i] + x[i,j] - vehicle_capacity * (1 - x[i,j]))\n",
    "            elseif i in delivery\n",
    "                @constraint(model, vehicle_load[j] <= vehicle_load[i] - x[i,j])\n",
    "            end\n",
    "        end\n",
    "    end\n",
    "end\n",
    "\n",
    "# 자기 자신으로의 이동 금지 제약 조건\n",
    "for i in 1:num_nodes\n",
    "    @constraint(model, x[i,i] == 0)\n",
    "end\n",
    "\n",
    "\n",
    "# 문제 해결\n",
    "optimize!(model)"
   ]
  },
  {
   "cell_type": "code",
   "execution_count": 23,
   "metadata": {},
   "outputs": [
    {
     "name": "stdout",
     "output_type": "stream",
     "text": [
      "최적의 솔루션을 찾지 못했습니다. 상태: INFEASIBLE\n"
     ]
    }
   ],
   "source": [
    "# 최적화 상태 확인\n",
    "status = termination_status(model)\n",
    "if status == MOI.OPTIMAL\n",
    "    println(\"Optimal!\")\n",
    "    println(\"총 비용: \", objective_value(model))\n",
    "\n",
    "    # 경로 추출\n",
    "    println(\"경로: \")\n",
    "    for i in 1:num_nodes\n",
    "        for j in 1:num_nodes\n",
    "            if value(x[i,j]) > 0.5 # x[i,j]가 1에 가까우면 경로에 포함\n",
    "                println(\"노드 $i 에서 노드 $j 로 이동\")\n",
    "            end\n",
    "        end\n",
    "    end\n",
    "\n",
    "    # 서비스 시작 시간 추출\n",
    "    println(\"\\n서비스 시작 시간: \")\n",
    "    for i in 1:num_nodes\n",
    "        println(\"노드 $i: \", value(service_start[i]))\n",
    "    end\n",
    "\n",
    "    # 차량 하중 추출\n",
    "    println(\"\\n차량 하중: \")\n",
    "    for i in 1:num_nodes\n",
    "        println(\"노드 $i: \", value(vehicle_load[i]))\n",
    "    end\n",
    "else\n",
    "    println(\"최적의 솔루션을 찾지 못했습니다. 상태: \", status)\n",
    "end"
   ]
  },
  {
   "cell_type": "markdown",
   "metadata": {},
   "source": [
    "## Dynmaic Programming"
   ]
  },
  {
   "cell_type": "code",
   "execution_count": null,
   "metadata": {},
   "outputs": [],
   "source": []
  }
 ],
 "metadata": {
  "kernelspec": {
   "display_name": "Julia 1.9.3",
   "language": "julia",
   "name": "julia-1.9"
  },
  "language_info": {
   "file_extension": ".jl",
   "mimetype": "application/julia",
   "name": "julia",
   "version": "1.9.3"
  }
 },
 "nbformat": 4,
 "nbformat_minor": 2
}
